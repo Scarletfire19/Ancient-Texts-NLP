{
  "nbformat": 4,
  "nbformat_minor": 0,
  "metadata": {
    "colab": {
      "name": "Ancient Texts NLP.ipynb",
      "provenance": []
    },
    "kernelspec": {
      "name": "python3",
      "display_name": "Python 3"
    },
    "language_info": {
      "name": "python"
    }
  },
  "cells": [
    {
      "cell_type": "code",
      "execution_count": 1,
      "metadata": {
        "id": "tN2GbAHNlBV7"
      },
      "outputs": [],
      "source": [
        "import pandas as pd"
      ]
    },
    {
      "cell_type": "code",
      "source": [
        "pip install umap"
      ],
      "metadata": {
        "colab": {
          "base_uri": "https://localhost:8080/"
        },
        "id": "H7uDtfNbpZPk",
        "outputId": "e7e8b434-83aa-408c-b1b0-61db581b912c"
      },
      "execution_count": 12,
      "outputs": [
        {
          "output_type": "stream",
          "name": "stdout",
          "text": [
            "Looking in indexes: https://pypi.org/simple, https://us-python.pkg.dev/colab-wheels/public/simple/\n",
            "Collecting umap\n",
            "  Downloading umap-0.1.1.tar.gz (3.2 kB)\n",
            "Building wheels for collected packages: umap\n",
            "  Building wheel for umap (setup.py) ... \u001b[?25l\u001b[?25hdone\n",
            "  Created wheel for umap: filename=umap-0.1.1-py3-none-any.whl size=3565 sha256=b540d29a16ada3a5c2057d44fc6ce3e3b39548fc403ee5229c40bd097b383f70\n",
            "  Stored in directory: /root/.cache/pip/wheels/65/55/85/945cfb3d67373767e4dc3e9629300a926edde52633df4f0efe\n",
            "Successfully built umap\n",
            "Installing collected packages: umap\n",
            "Successfully installed umap-0.1.1\n"
          ]
        }
      ]
    },
    {
      "cell_type": "code",
      "source": [
        "q=pd.read_csv('/content/AllBooks_baselineAsian.csv')"
      ],
      "metadata": {
        "id": "Vwd6JQMtn9VQ"
      },
      "execution_count": 2,
      "outputs": []
    },
    {
      "cell_type": "code",
      "source": [
        "matrix=q.drop(columns=['Unnamed: 0'])"
      ],
      "metadata": {
        "id": "wyp8xCOfn-Ix"
      },
      "execution_count": 7,
      "outputs": []
    },
    {
      "cell_type": "code",
      "source": [
        "matrix"
      ],
      "metadata": {
        "colab": {
          "base_uri": "https://localhost:8080/",
          "height": 487
        },
        "id": "zSvB7mC3qHSV",
        "outputId": "a0b0ee06-b740-44b3-95ac-b316b5a03565"
      },
      "execution_count": 17,
      "outputs": [
        {
          "output_type": "execute_result",
          "data": {
            "text/plain": [
              "     foolishness  hath  wholesome  takest  feelings  anger  vaivaswata  \\\n",
              "0              0     0          0       0         0      0           0   \n",
              "1              0     0          0       0         0      0           0   \n",
              "2              0     0          0       0         0      0           0   \n",
              "3              0     0          0       0         0      0           0   \n",
              "4              0     0          0       0         0      0           0   \n",
              "..           ...   ...        ...     ...       ...    ...         ...   \n",
              "585            0     2          0       0         0      0           0   \n",
              "586            0     0          0       0         0      0           0   \n",
              "587            0     0          0       0         0      0           0   \n",
              "588            0     0          0       0         0      0           0   \n",
              "589            0     0          0       0         0      0           0   \n",
              "\n",
              "     matrix  kindled  convict  ...  erred  thinkest  modern  reigned  \\\n",
              "0         0        0        0  ...      0         0       0        0   \n",
              "1         0        0        0  ...      0         0       0        0   \n",
              "2         0        0        0  ...      0         0       0        0   \n",
              "3         0        0        0  ...      0         0       0        0   \n",
              "4         0        0        0  ...      0         0       0        0   \n",
              "..      ...      ...      ...  ...    ...       ...     ...      ...   \n",
              "585       0        0        0  ...      0         0       0        0   \n",
              "586       0        0        0  ...      0         0       0        0   \n",
              "587       0        0        0  ...      1         0       0        0   \n",
              "588       0        0        0  ...      0         0       0        0   \n",
              "589       0        0        0  ...      0         0       0        0   \n",
              "\n",
              "     sparingly  visual  thoughts  illumines  attire  explains  \n",
              "0            0       0         0          0       0         0  \n",
              "1            0       0         0          0       0         0  \n",
              "2            0       0         0          0       0         0  \n",
              "3            0       0         0          0       0         0  \n",
              "4            0       0         0          0       0         0  \n",
              "..         ...     ...       ...        ...     ...       ...  \n",
              "585          0       0         0          0       0         0  \n",
              "586          0       0         0          0       0         0  \n",
              "587          0       0         0          0       0         0  \n",
              "588          0       0         0          0       0         0  \n",
              "589          0       0         0          0       0         0  \n",
              "\n",
              "[590 rows x 8266 columns]"
            ],
            "text/html": [
              "\n",
              "  <div id=\"df-981e6eef-50cc-49d7-89ea-7043ce71c581\">\n",
              "    <div class=\"colab-df-container\">\n",
              "      <div>\n",
              "<style scoped>\n",
              "    .dataframe tbody tr th:only-of-type {\n",
              "        vertical-align: middle;\n",
              "    }\n",
              "\n",
              "    .dataframe tbody tr th {\n",
              "        vertical-align: top;\n",
              "    }\n",
              "\n",
              "    .dataframe thead th {\n",
              "        text-align: right;\n",
              "    }\n",
              "</style>\n",
              "<table border=\"1\" class=\"dataframe\">\n",
              "  <thead>\n",
              "    <tr style=\"text-align: right;\">\n",
              "      <th></th>\n",
              "      <th>foolishness</th>\n",
              "      <th>hath</th>\n",
              "      <th>wholesome</th>\n",
              "      <th>takest</th>\n",
              "      <th>feelings</th>\n",
              "      <th>anger</th>\n",
              "      <th>vaivaswata</th>\n",
              "      <th>matrix</th>\n",
              "      <th>kindled</th>\n",
              "      <th>convict</th>\n",
              "      <th>...</th>\n",
              "      <th>erred</th>\n",
              "      <th>thinkest</th>\n",
              "      <th>modern</th>\n",
              "      <th>reigned</th>\n",
              "      <th>sparingly</th>\n",
              "      <th>visual</th>\n",
              "      <th>thoughts</th>\n",
              "      <th>illumines</th>\n",
              "      <th>attire</th>\n",
              "      <th>explains</th>\n",
              "    </tr>\n",
              "  </thead>\n",
              "  <tbody>\n",
              "    <tr>\n",
              "      <th>0</th>\n",
              "      <td>0</td>\n",
              "      <td>0</td>\n",
              "      <td>0</td>\n",
              "      <td>0</td>\n",
              "      <td>0</td>\n",
              "      <td>0</td>\n",
              "      <td>0</td>\n",
              "      <td>0</td>\n",
              "      <td>0</td>\n",
              "      <td>0</td>\n",
              "      <td>...</td>\n",
              "      <td>0</td>\n",
              "      <td>0</td>\n",
              "      <td>0</td>\n",
              "      <td>0</td>\n",
              "      <td>0</td>\n",
              "      <td>0</td>\n",
              "      <td>0</td>\n",
              "      <td>0</td>\n",
              "      <td>0</td>\n",
              "      <td>0</td>\n",
              "    </tr>\n",
              "    <tr>\n",
              "      <th>1</th>\n",
              "      <td>0</td>\n",
              "      <td>0</td>\n",
              "      <td>0</td>\n",
              "      <td>0</td>\n",
              "      <td>0</td>\n",
              "      <td>0</td>\n",
              "      <td>0</td>\n",
              "      <td>0</td>\n",
              "      <td>0</td>\n",
              "      <td>0</td>\n",
              "      <td>...</td>\n",
              "      <td>0</td>\n",
              "      <td>0</td>\n",
              "      <td>0</td>\n",
              "      <td>0</td>\n",
              "      <td>0</td>\n",
              "      <td>0</td>\n",
              "      <td>0</td>\n",
              "      <td>0</td>\n",
              "      <td>0</td>\n",
              "      <td>0</td>\n",
              "    </tr>\n",
              "    <tr>\n",
              "      <th>2</th>\n",
              "      <td>0</td>\n",
              "      <td>0</td>\n",
              "      <td>0</td>\n",
              "      <td>0</td>\n",
              "      <td>0</td>\n",
              "      <td>0</td>\n",
              "      <td>0</td>\n",
              "      <td>0</td>\n",
              "      <td>0</td>\n",
              "      <td>0</td>\n",
              "      <td>...</td>\n",
              "      <td>0</td>\n",
              "      <td>0</td>\n",
              "      <td>0</td>\n",
              "      <td>0</td>\n",
              "      <td>0</td>\n",
              "      <td>0</td>\n",
              "      <td>0</td>\n",
              "      <td>0</td>\n",
              "      <td>0</td>\n",
              "      <td>0</td>\n",
              "    </tr>\n",
              "    <tr>\n",
              "      <th>3</th>\n",
              "      <td>0</td>\n",
              "      <td>0</td>\n",
              "      <td>0</td>\n",
              "      <td>0</td>\n",
              "      <td>0</td>\n",
              "      <td>0</td>\n",
              "      <td>0</td>\n",
              "      <td>0</td>\n",
              "      <td>0</td>\n",
              "      <td>0</td>\n",
              "      <td>...</td>\n",
              "      <td>0</td>\n",
              "      <td>0</td>\n",
              "      <td>0</td>\n",
              "      <td>0</td>\n",
              "      <td>0</td>\n",
              "      <td>0</td>\n",
              "      <td>0</td>\n",
              "      <td>0</td>\n",
              "      <td>0</td>\n",
              "      <td>0</td>\n",
              "    </tr>\n",
              "    <tr>\n",
              "      <th>4</th>\n",
              "      <td>0</td>\n",
              "      <td>0</td>\n",
              "      <td>0</td>\n",
              "      <td>0</td>\n",
              "      <td>0</td>\n",
              "      <td>0</td>\n",
              "      <td>0</td>\n",
              "      <td>0</td>\n",
              "      <td>0</td>\n",
              "      <td>0</td>\n",
              "      <td>...</td>\n",
              "      <td>0</td>\n",
              "      <td>0</td>\n",
              "      <td>0</td>\n",
              "      <td>0</td>\n",
              "      <td>0</td>\n",
              "      <td>0</td>\n",
              "      <td>0</td>\n",
              "      <td>0</td>\n",
              "      <td>0</td>\n",
              "      <td>0</td>\n",
              "    </tr>\n",
              "    <tr>\n",
              "      <th>...</th>\n",
              "      <td>...</td>\n",
              "      <td>...</td>\n",
              "      <td>...</td>\n",
              "      <td>...</td>\n",
              "      <td>...</td>\n",
              "      <td>...</td>\n",
              "      <td>...</td>\n",
              "      <td>...</td>\n",
              "      <td>...</td>\n",
              "      <td>...</td>\n",
              "      <td>...</td>\n",
              "      <td>...</td>\n",
              "      <td>...</td>\n",
              "      <td>...</td>\n",
              "      <td>...</td>\n",
              "      <td>...</td>\n",
              "      <td>...</td>\n",
              "      <td>...</td>\n",
              "      <td>...</td>\n",
              "      <td>...</td>\n",
              "      <td>...</td>\n",
              "    </tr>\n",
              "    <tr>\n",
              "      <th>585</th>\n",
              "      <td>0</td>\n",
              "      <td>2</td>\n",
              "      <td>0</td>\n",
              "      <td>0</td>\n",
              "      <td>0</td>\n",
              "      <td>0</td>\n",
              "      <td>0</td>\n",
              "      <td>0</td>\n",
              "      <td>0</td>\n",
              "      <td>0</td>\n",
              "      <td>...</td>\n",
              "      <td>0</td>\n",
              "      <td>0</td>\n",
              "      <td>0</td>\n",
              "      <td>0</td>\n",
              "      <td>0</td>\n",
              "      <td>0</td>\n",
              "      <td>0</td>\n",
              "      <td>0</td>\n",
              "      <td>0</td>\n",
              "      <td>0</td>\n",
              "    </tr>\n",
              "    <tr>\n",
              "      <th>586</th>\n",
              "      <td>0</td>\n",
              "      <td>0</td>\n",
              "      <td>0</td>\n",
              "      <td>0</td>\n",
              "      <td>0</td>\n",
              "      <td>0</td>\n",
              "      <td>0</td>\n",
              "      <td>0</td>\n",
              "      <td>0</td>\n",
              "      <td>0</td>\n",
              "      <td>...</td>\n",
              "      <td>0</td>\n",
              "      <td>0</td>\n",
              "      <td>0</td>\n",
              "      <td>0</td>\n",
              "      <td>0</td>\n",
              "      <td>0</td>\n",
              "      <td>0</td>\n",
              "      <td>0</td>\n",
              "      <td>0</td>\n",
              "      <td>0</td>\n",
              "    </tr>\n",
              "    <tr>\n",
              "      <th>587</th>\n",
              "      <td>0</td>\n",
              "      <td>0</td>\n",
              "      <td>0</td>\n",
              "      <td>0</td>\n",
              "      <td>0</td>\n",
              "      <td>0</td>\n",
              "      <td>0</td>\n",
              "      <td>0</td>\n",
              "      <td>0</td>\n",
              "      <td>0</td>\n",
              "      <td>...</td>\n",
              "      <td>1</td>\n",
              "      <td>0</td>\n",
              "      <td>0</td>\n",
              "      <td>0</td>\n",
              "      <td>0</td>\n",
              "      <td>0</td>\n",
              "      <td>0</td>\n",
              "      <td>0</td>\n",
              "      <td>0</td>\n",
              "      <td>0</td>\n",
              "    </tr>\n",
              "    <tr>\n",
              "      <th>588</th>\n",
              "      <td>0</td>\n",
              "      <td>0</td>\n",
              "      <td>0</td>\n",
              "      <td>0</td>\n",
              "      <td>0</td>\n",
              "      <td>0</td>\n",
              "      <td>0</td>\n",
              "      <td>0</td>\n",
              "      <td>0</td>\n",
              "      <td>0</td>\n",
              "      <td>...</td>\n",
              "      <td>0</td>\n",
              "      <td>0</td>\n",
              "      <td>0</td>\n",
              "      <td>0</td>\n",
              "      <td>0</td>\n",
              "      <td>0</td>\n",
              "      <td>0</td>\n",
              "      <td>0</td>\n",
              "      <td>0</td>\n",
              "      <td>0</td>\n",
              "    </tr>\n",
              "    <tr>\n",
              "      <th>589</th>\n",
              "      <td>0</td>\n",
              "      <td>0</td>\n",
              "      <td>0</td>\n",
              "      <td>0</td>\n",
              "      <td>0</td>\n",
              "      <td>0</td>\n",
              "      <td>0</td>\n",
              "      <td>0</td>\n",
              "      <td>0</td>\n",
              "      <td>0</td>\n",
              "      <td>...</td>\n",
              "      <td>0</td>\n",
              "      <td>0</td>\n",
              "      <td>0</td>\n",
              "      <td>0</td>\n",
              "      <td>0</td>\n",
              "      <td>0</td>\n",
              "      <td>0</td>\n",
              "      <td>0</td>\n",
              "      <td>0</td>\n",
              "      <td>0</td>\n",
              "    </tr>\n",
              "  </tbody>\n",
              "</table>\n",
              "<p>590 rows × 8266 columns</p>\n",
              "</div>\n",
              "      <button class=\"colab-df-convert\" onclick=\"convertToInteractive('df-981e6eef-50cc-49d7-89ea-7043ce71c581')\"\n",
              "              title=\"Convert this dataframe to an interactive table.\"\n",
              "              style=\"display:none;\">\n",
              "        \n",
              "  <svg xmlns=\"http://www.w3.org/2000/svg\" height=\"24px\"viewBox=\"0 0 24 24\"\n",
              "       width=\"24px\">\n",
              "    <path d=\"M0 0h24v24H0V0z\" fill=\"none\"/>\n",
              "    <path d=\"M18.56 5.44l.94 2.06.94-2.06 2.06-.94-2.06-.94-.94-2.06-.94 2.06-2.06.94zm-11 1L8.5 8.5l.94-2.06 2.06-.94-2.06-.94L8.5 2.5l-.94 2.06-2.06.94zm10 10l.94 2.06.94-2.06 2.06-.94-2.06-.94-.94-2.06-.94 2.06-2.06.94z\"/><path d=\"M17.41 7.96l-1.37-1.37c-.4-.4-.92-.59-1.43-.59-.52 0-1.04.2-1.43.59L10.3 9.45l-7.72 7.72c-.78.78-.78 2.05 0 2.83L4 21.41c.39.39.9.59 1.41.59.51 0 1.02-.2 1.41-.59l7.78-7.78 2.81-2.81c.8-.78.8-2.07 0-2.86zM5.41 20L4 18.59l7.72-7.72 1.47 1.35L5.41 20z\"/>\n",
              "  </svg>\n",
              "      </button>\n",
              "      \n",
              "  <style>\n",
              "    .colab-df-container {\n",
              "      display:flex;\n",
              "      flex-wrap:wrap;\n",
              "      gap: 12px;\n",
              "    }\n",
              "\n",
              "    .colab-df-convert {\n",
              "      background-color: #E8F0FE;\n",
              "      border: none;\n",
              "      border-radius: 50%;\n",
              "      cursor: pointer;\n",
              "      display: none;\n",
              "      fill: #1967D2;\n",
              "      height: 32px;\n",
              "      padding: 0 0 0 0;\n",
              "      width: 32px;\n",
              "    }\n",
              "\n",
              "    .colab-df-convert:hover {\n",
              "      background-color: #E2EBFA;\n",
              "      box-shadow: 0px 1px 2px rgba(60, 64, 67, 0.3), 0px 1px 3px 1px rgba(60, 64, 67, 0.15);\n",
              "      fill: #174EA6;\n",
              "    }\n",
              "\n",
              "    [theme=dark] .colab-df-convert {\n",
              "      background-color: #3B4455;\n",
              "      fill: #D2E3FC;\n",
              "    }\n",
              "\n",
              "    [theme=dark] .colab-df-convert:hover {\n",
              "      background-color: #434B5C;\n",
              "      box-shadow: 0px 1px 3px 1px rgba(0, 0, 0, 0.15);\n",
              "      filter: drop-shadow(0px 1px 2px rgba(0, 0, 0, 0.3));\n",
              "      fill: #FFFFFF;\n",
              "    }\n",
              "  </style>\n",
              "\n",
              "      <script>\n",
              "        const buttonEl =\n",
              "          document.querySelector('#df-981e6eef-50cc-49d7-89ea-7043ce71c581 button.colab-df-convert');\n",
              "        buttonEl.style.display =\n",
              "          google.colab.kernel.accessAllowed ? 'block' : 'none';\n",
              "\n",
              "        async function convertToInteractive(key) {\n",
              "          const element = document.querySelector('#df-981e6eef-50cc-49d7-89ea-7043ce71c581');\n",
              "          const dataTable =\n",
              "            await google.colab.kernel.invokeFunction('convertToInteractive',\n",
              "                                                     [key], {});\n",
              "          if (!dataTable) return;\n",
              "\n",
              "          const docLinkHtml = 'Like what you see? Visit the ' +\n",
              "            '<a target=\"_blank\" href=https://colab.research.google.com/notebooks/data_table.ipynb>data table notebook</a>'\n",
              "            + ' to learn more about interactive tables.';\n",
              "          element.innerHTML = '';\n",
              "          dataTable['output_type'] = 'display_data';\n",
              "          await google.colab.output.renderOutput(dataTable, element);\n",
              "          const docLink = document.createElement('div');\n",
              "          docLink.innerHTML = docLinkHtml;\n",
              "          element.appendChild(docLink);\n",
              "        }\n",
              "      </script>\n",
              "    </div>\n",
              "  </div>\n",
              "  "
            ]
          },
          "metadata": {},
          "execution_count": 17
        }
      ]
    },
    {
      "cell_type": "code",
      "source": [
        "from sklearn.decomposition import FastICA\n",
        "import matplotlib.pyplot as plt\n",
        "\n",
        "transformer = FastICA(n_components=2, random_state=0)\n",
        "transformedica = transformer.fit_transform(matrix)\n",
        "\n",
        "plot = plt.scatter(transformedica[:,0], transformedica[:,1])"
      ],
      "metadata": {
        "colab": {
          "base_uri": "https://localhost:8080/",
          "height": 265
        },
        "id": "pg8rHdz6oej4",
        "outputId": "ae1f9008-4cef-4c55-9560-0a97d0bb3b01"
      },
      "execution_count": 9,
      "outputs": [
        {
          "output_type": "display_data",
          "data": {
            "text/plain": [
              "<Figure size 432x288 with 1 Axes>"
            ],
            "image/png": "[encoded data removed]"
          },
          "metadata": {
            "needs_background": "light"
          }
        }
      ]
    },
    {
      "cell_type": "code",
      "source": [
        "import matplotlib.pyplot as plt\n",
        "import numpy as np\n",
        "import tensorflow as tf\n",
        "from tensorflow.keras.models import Model, Sequential\n",
        "from tensorflow.keras.layers import Dense\n",
        "import pandas as pd\n",
        "import random\n",
        "from sklearn.preprocessing import StandardScaler"
      ],
      "metadata": {
        "id": "W11mWMnLp_b7"
      },
      "execution_count": 14,
      "outputs": []
    },
    {
      "cell_type": "code",
      "source": [
        "x_train = matrix.to_numpy()\n",
        "\n",
        "# Scale data to have zero mean and unit variance\n",
        "scaler = StandardScaler()\n",
        "scaler.fit(x_train)\n",
        "x_train = scaler.transform(x_train)"
      ],
      "metadata": {
        "id": "p5Pefghvp_fV"
      },
      "execution_count": 16,
      "outputs": []
    },
    {
      "cell_type": "code",
      "source": [
        "\n",
        "\n",
        "input_dim = 8266\n",
        "\n",
        "# This is the dimension of the latent space (encoding space)\n",
        "latent_dim = 2\n",
        "\n",
        "encoder = Sequential([\n",
        "    Dense(16, activation='relu', input_shape=(input_dim,)),\n",
        "    Dense(8, activation='relu'),\n",
        "    Dense(4, activation='relu'),\n",
        "    Dense(latent_dim, activation='relu')\n",
        "])\n",
        "\n",
        "decoder = Sequential([\n",
        "    Dense(10, activation='relu', input_shape=(latent_dim,)),\n",
        "    Dense(8, activation='relu'),\n",
        "    Dense(4, activation='relu'),\n",
        "\n",
        "    Dense(input_dim, activation=None)\n",
        "])"
      ],
      "metadata": {
        "id": "LdLDCu9TqBTd"
      },
      "execution_count": 18,
      "outputs": []
    },
    {
      "cell_type": "code",
      "source": [
        "autoencoder = Model(inputs=encoder.input, outputs=decoder(encoder.output))\n",
        "autoencoder.compile(loss='mse', optimizer='adam')\n"
      ],
      "metadata": {
        "id": "KSLYhM0PqBWv"
      },
      "execution_count": 19,
      "outputs": []
    },
    {
      "cell_type": "code",
      "source": [
        "encoded_x_train = encoder(x_train)\n",
        "plt.figure(figsize=(6,6))\n",
        "plt.scatter(encoded_x_train[:, 0], encoded_x_train[:, 1], alpha=0.9)\n",
        "plt.xlabel('Latent Dimension 1')\n",
        "plt.ylabel('Latent Dimension 2');"
      ],
      "metadata": {
        "colab": {
          "base_uri": "https://localhost:8080/",
          "height": 388
        },
        "id": "LKeTVDw-qOOs",
        "outputId": "4dec4f06-f504-4412-f2cd-101bfd4ced65"
      },
      "execution_count": 20,
      "outputs": [
        {
          "output_type": "display_data",
          "data": {
            "text/plain": [
              "<Figure size 432x432 with 1 Axes>"
            ],
            "image/png": "[encoded data removed]"
          },
          "metadata": {
            "needs_background": "light"
          }
        }
      ]
    },
    {
      "cell_type": "code",
      "source": [
        "for i in range(len(q)):\n",
        "    if \"Buddhism\" in q[\"Unnamed: 0\"][i]:\n",
        "      q[\"class\"][i]=4\n",
        "\n",
        "    if \"Upanishad\" in q[\"Unnamed: 0\"][i]:\n",
        "      q[\"class\"][i]=1\n",
        "\n",
        "    if \"YogaSutra\" in q[\"Unnamed: 0\"][i]:\n",
        "      q[\"class\"][i]=2\n",
        "\n",
        "    if \"TaoTeChing\" in q[\"Unnamed: 0\"][i]:\n",
        "      q[\"class\"][i]=2"
      ],
      "metadata": {
        "colab": {
          "base_uri": "https://localhost:8080/"
        },
        "id": "GXRPnd75xOcw",
        "outputId": "302603d3-ca6b-4a4c-a62b-cf429ef3b717"
      },
      "execution_count": 35,
      "outputs": [
        {
          "output_type": "stream",
          "name": "stderr",
          "text": [
            "/usr/local/lib/python3.7/dist-packages/ipykernel_launcher.py:3: SettingWithCopyWarning:\n",
            "\n",
            "\n",
            "A value is trying to be set on a copy of a slice from a DataFrame\n",
            "\n",
            "See the caveats in the documentation: https://pandas.pydata.org/pandas-docs/stable/user_guide/indexing.html#returning-a-view-versus-a-copy\n",
            "\n",
            "/usr/local/lib/python3.7/dist-packages/ipykernel_launcher.py:12: SettingWithCopyWarning:\n",
            "\n",
            "\n",
            "A value is trying to be set on a copy of a slice from a DataFrame\n",
            "\n",
            "See the caveats in the documentation: https://pandas.pydata.org/pandas-docs/stable/user_guide/indexing.html#returning-a-view-versus-a-copy\n",
            "\n",
            "/usr/local/lib/python3.7/dist-packages/ipykernel_launcher.py:6: SettingWithCopyWarning:\n",
            "\n",
            "\n",
            "A value is trying to be set on a copy of a slice from a DataFrame\n",
            "\n",
            "See the caveats in the documentation: https://pandas.pydata.org/pandas-docs/stable/user_guide/indexing.html#returning-a-view-versus-a-copy\n",
            "\n",
            "/usr/local/lib/python3.7/dist-packages/ipykernel_launcher.py:9: SettingWithCopyWarning:\n",
            "\n",
            "\n",
            "A value is trying to be set on a copy of a slice from a DataFrame\n",
            "\n",
            "See the caveats in the documentation: https://pandas.pydata.org/pandas-docs/stable/user_guide/indexing.html#returning-a-view-versus-a-copy\n",
            "\n"
          ]
        }
      ]
    },
    {
      "cell_type": "code",
      "source": [
        "q[\"class\"]"
      ],
      "metadata": {
        "colab": {
          "base_uri": "https://localhost:8080/"
        },
        "id": "Tw5ff1TZxmTC",
        "outputId": "6ed14494-2534-4c55-9748-90741c4b2c4b"
      },
      "execution_count": 37,
      "outputs": [
        {
          "output_type": "execute_result",
          "data": {
            "text/plain": [
              "0      4\n",
              "1      4\n",
              "2      4\n",
              "3      4\n",
              "4      4\n",
              "      ..\n",
              "585    0\n",
              "586    0\n",
              "587    0\n",
              "588    0\n",
              "589    0\n",
              "Name: class, Length: 590, dtype: int64"
            ]
          },
          "metadata": {},
          "execution_count": 37
        }
      ]
    },
    {
      "cell_type": "code",
      "source": [
        "import plotly.express as px\n",
        "\n",
        "pd.options.plotting.backend = \"plotly\"\n",
        "figplotly1 = px.scatter(encoded_x_train[:,0], y=encoded_x_train[:,1],text=q[\"Unnamed: 0\"],color=q[\"class\"])\n",
        "figplotly1.show()\n",
        "#st.plotly_chart(figplotly1, use_container_width=True)"
      ],
      "metadata": {
        "colab": {
          "base_uri": "https://localhost:8080/",
          "height": 542
        },
        "id": "GS7Lt0Wz1p5i",
        "outputId": "d6aa6e80-0067-419e-e111-f421b3bb669f"
      },
      "execution_count": 45,
      "outputs": [
        {
          "output_type": "display_data",
          "data": {
            "text/html": [
              "<html>\n",
              "<head><meta charset=\"utf-8\" /></head>\n",
              "<body>\n",
              "    <div>            <script src=\"https://cdnjs.cloudflare.com/ajax/libs/mathjax/2.7.5/MathJax.js?config=TeX-AMS-MML_SVG\"></script><script type=\"text/javascript\">if (window.MathJax) {MathJax.Hub.Config({SVG: {font: \"STIX-Web\"}});}</script>                <script type=\"text/javascript\">window.PlotlyConfig = {MathJaxConfig: 'local'};</script>\n",
              "        <script src=\"https://cdn.plot.ly/plotly-2.8.3.min.js\"></script>                <div id=\"f634b738-750e-41df-bee8-b7e571da40ba\" class=\"plotly-graph-div\" style=\"height:525px; width:100%;\"></div>            <script type=\"text/javascript\">                                    window.PLOTLYENV=window.PLOTLYENV || {};                                    if (document.getElementById(\"f634b738-750e-41df-bee8-b7e571da40ba\")) {                    Plotly.newPlot(                        \"f634b738-750e-41df-bee8-b7e571da40ba\",                        [{\"hovertemplate\":\"index=%{x}<br>y=%{y}<br>text=%{text}<br>color=%{marker.color}<extra></extra>\",\"legendgroup\":\"\",\"marker\":{\"color\":[4,4,4,4,4,4,4,4,4,4,4,4,4,4,4,4,4,4,4,4,4,4,4,4,4,4,4,4,4,4,4,4,4,4,4,4,4,4,4,4,4,4,4,4,4,4,2,2,2,2,2,2,2,2,2,2,2,2,2,2,2,2,2,2,2,2,2,2,2,2,2,2,2,2,2,2,2,2,2,2,2,2,2,2,2,2,2,2,2,2,2,2,2,2,2,2,2,2,2,2,2,2,2,2,2,2,2,2,2,2,2,2,2,2,2,2,2,2,2,2,2,2,2,2,2,2,2,1,1,1,1,1,1,1,1,1,1,1,1,1,1,1,1,1,1,1,1,1,1,1,1,1,1,1,1,1,1,1,1,1,1,1,1,1,1,1,1,1,1,1,1,1,1,1,1,1,1,1,1,1,1,1,1,1,1,1,1,1,1,1,1,1,1,1,1,1,1,1,1,1,1,1,1,1,1,1,1,1,1,1,1,1,1,1,1,1,1,1,1,1,1,1,1,1,1,1,1,1,1,1,1,1,1,1,1,1,1,1,1,1,1,1,1,1,1,1,1,1,1,1,1,1,1,1,1,1,1,1,1,1,1,1,1,1,1,1,1,1,1,1,1,1,1,1,1,1,1,1,1,1,1,1,1,1,1,1,1,1,1,2,2,2,2,2,2,2,2,2,2,2,2,2,2,2,2,2,2,2,2,2,2,2,2,2,2,2,2,2,2,2,2,2,2,2,2,2,2,2,2,2,2,2,2,2,2,2,2,2,2,2,2,2,2,2,2,2,2,2,2,2,2,2,2,2,2,2,2,2,2,2,2,2,2,2,2,2,2,2,2,2,2,2,2,2,2,2,2,2,2,2,2,2,2,2,2,2,2,2,2,2,2,2,2,2,2,2,2,2,2,2,2,2,2,2,2,2,2,2,2,2,2,2,2,2,2,2,2,2,2,2,2,2,2,2,2,2,2,2,2,2,2,2,2,2,2,2,2,2,2,2,2,2,2,2,2,2,2,2,2,2,2,2,2,2,2,2,2,2,2,2,2,2,2,2,2,2,2,2,2,2,2,2,2,2,2,2,2,2,0,0,0,0,0,0,0,0,0,0,0,0,0,0,0,0,0,0,0,0,0,0,0,0,0,0,0,0,0,0,0,0,0,0,0,0,0,0,0,0,0,0,0,0,0,0,0,0,0,0,0,0,0,0,0,0,0,0,0,0,0,0,0,0,0,0,0,0,0,0,0,0,0,0,0,0,0,0,0,0,0,0,0,0,0,0,0,0,0,0,0,0,0,0,0,0,0,0,0,0,0,0,0,0,0,0,0,0,0,0,0,0],\"coloraxis\":\"coloraxis\",\"symbol\":\"circle\"},\"mode\":\"markers+text\",\"name\":\"\",\"orientation\":\"v\",\"showlegend\":false,\"text\":[\"Buddhism_Ch1\",\"Buddhism_Ch2\",\"Buddhism_Ch3\",\"Buddhism_Ch4\",\"Buddhism_Ch5\",\"Buddhism_Ch6\",\"Buddhism_Ch7\",\"Buddhism_Ch8\",\"Buddhism_Ch9\",\"Buddhism_Ch10\",\"Buddhism_Ch11\",\"Buddhism_Ch12\",\"Buddhism_Ch13\",\"Buddhism_Ch14\",\"Buddhism_Ch15\",\"Buddhism_Ch16\",\"Buddhism_Ch17\",\"Buddhism_Ch18\",\"Buddhism_Ch19\",\"Buddhism_Ch20\",\"Buddhism_Ch21\",\"Buddhism_Ch22\",\"Buddhism_Ch23\",\"Buddhism_Ch24\",\"Buddhism_Ch25\",\"Buddhism_Ch26\",\"Buddhism_Ch27\",\"Buddhism_Ch28\",\"Buddhism_Ch29\",\"Buddhism_Ch30\",\"Buddhism_Ch31\",\"Buddhism_Ch32\",\"Buddhism_Ch33\",\"Buddhism_Ch34\",\"Buddhism_Ch35\",\"Buddhism_Ch36\",\"Buddhism_Ch37\",\"Buddhism_Ch38\",\"Buddhism_Ch39\",\"Buddhism_Ch40\",\"Buddhism_Ch41\",\"Buddhism_Ch42\",\"Buddhism_Ch43\",\"Buddhism_Ch44\",\"Buddhism_Ch45\",\"Buddhism_Ch46\",\"TaoTeChing_Ch1\",\"TaoTeChing_Ch2\",\"TaoTeChing_Ch3\",\"TaoTeChing_Ch4\",\"TaoTeChing_Ch5\",\"TaoTeChing_Ch6\",\"TaoTeChing_Ch7\",\"TaoTeChing_Ch8\",\"TaoTeChing_Ch9\",\"TaoTeChing_Ch10\",\"TaoTeChing_Ch11\",\"TaoTeChing_Ch12\",\"TaoTeChing_Ch13\",\"TaoTeChing_Ch14\",\"TaoTeChing_Ch15\",\"TaoTeChing_Ch16\",\"TaoTeChing_Ch17\",\"TaoTeChing_Ch18\",\"TaoTeChing_Ch19\",\"TaoTeChing_Ch20\",\"TaoTeChing_Ch21\",\"TaoTeChing_Ch22\",\"TaoTeChing_Ch23\",\"TaoTeChing_Ch24\",\"TaoTeChing_Ch25\",\"TaoTeChing_Ch26\",\"TaoTeChing_Ch27\",\"TaoTeChing_Ch28\",\"TaoTeChing_Ch29\",\"TaoTeChing_Ch30\",\"TaoTeChing_Ch31\",\"TaoTeChing_Ch32\",\"TaoTeChing_Ch33\",\"TaoTeChing_Ch34\",\"TaoTeChing_Ch35\",\"TaoTeChing_Ch36\",\"TaoTeChing_Ch37\",\"TaoTeChing_Ch38\",\"TaoTeChing_Ch39\",\"TaoTeChing_Ch40\",\"TaoTeChing_Ch41\",\"TaoTeChing_Ch42\",\"TaoTeChing_Ch43\",\"TaoTeChing_Ch44\",\"TaoTeChing_Ch45\",\"TaoTeChing_Ch46\",\"TaoTeChing_Ch47\",\"TaoTeChing_Ch48\",\"TaoTeChing_Ch49\",\"TaoTeChing_Ch50\",\"TaoTeChing_Ch51\",\"TaoTeChing_Ch52\",\"TaoTeChing_Ch53\",\"TaoTeChing_Ch54\",\"TaoTeChing_Ch55\",\"TaoTeChing_Ch56\",\"TaoTeChing_Ch57\",\"TaoTeChing_Ch58\",\"TaoTeChing_Ch59\",\"TaoTeChing_Ch60\",\"TaoTeChing_Ch61\",\"TaoTeChing_Ch62\",\"TaoTeChing_Ch63\",\"TaoTeChing_Ch64\",\"TaoTeChing_Ch65\",\"TaoTeChing_Ch66\",\"TaoTeChing_Ch67\",\"TaoTeChing_Ch68\",\"TaoTeChing_Ch69\",\"TaoTeChing_Ch70\",\"TaoTeChing_Ch71\",\"TaoTeChing_Ch72\",\"TaoTeChing_Ch73\",\"TaoTeChing_Ch74\",\"TaoTeChing_Ch75\",\"TaoTeChing_Ch76\",\"TaoTeChing_Ch77\",\"TaoTeChing_Ch78\",\"TaoTeChing_Ch79\",\"TaoTeChing_Ch80\",\"TaoTeChing_Ch81\",\"Upanishad_Ch1\",\"Upanishad_Ch2\",\"Upanishad_Ch3\",\"Upanishad_Ch4\",\"Upanishad_Ch5\",\"Upanishad_Ch6\",\"Upanishad_Ch7\",\"Upanishad_Ch8\",\"Upanishad_Ch9\",\"Upanishad_Ch10\",\"Upanishad_Ch11\",\"Upanishad_Ch12\",\"Upanishad_Ch13\",\"Upanishad_Ch14\",\"Upanishad_Ch15\",\"Upanishad_Ch16\",\"Upanishad_Ch17\",\"Upanishad_Ch18\",\"Upanishad_Ch19\",\"Upanishad_Ch20\",\"Upanishad_Ch21\",\"Upanishad_Ch22\",\"Upanishad_Ch23\",\"Upanishad_Ch24\",\"Upanishad_Ch25\",\"Upanishad_Ch26\",\"Upanishad_Ch27\",\"Upanishad_Ch28\",\"Upanishad_Ch29\",\"Upanishad_Ch30\",\"Upanishad_Ch31\",\"Upanishad_Ch32\",\"Upanishad_Ch33\",\"Upanishad_Ch34\",\"Upanishad_Ch35\",\"Upanishad_Ch36\",\"Upanishad_Ch37\",\"Upanishad_Ch38\",\"Upanishad_Ch39\",\"Upanishad_Ch40\",\"Upanishad_Ch41\",\"Upanishad_Ch42\",\"Upanishad_Ch43\",\"Upanishad_Ch44\",\"Upanishad_Ch45\",\"Upanishad_Ch46\",\"Upanishad_Ch47\",\"Upanishad_Ch48\",\"Upanishad_Ch49\",\"Upanishad_Ch50\",\"Upanishad_Ch51\",\"Upanishad_Ch52\",\"Upanishad_Ch53\",\"Upanishad_Ch54\",\"Upanishad_Ch55\",\"Upanishad_Ch56\",\"Upanishad_Ch57\",\"Upanishad_Ch58\",\"Upanishad_Ch59\",\"Upanishad_Ch60\",\"Upanishad_Ch61\",\"Upanishad_Ch62\",\"Upanishad_Ch63\",\"Upanishad_Ch64\",\"Upanishad_Ch65\",\"Upanishad_Ch66\",\"Upanishad_Ch67\",\"Upanishad_Ch68\",\"Upanishad_Ch69\",\"Upanishad_Ch70\",\"Upanishad_Ch71\",\"Upanishad_Ch72\",\"Upanishad_Ch73\",\"Upanishad_Ch74\",\"Upanishad_Ch75\",\"Upanishad_Ch76\",\"Upanishad_Ch77\",\"Upanishad_Ch78\",\"Upanishad_Ch79\",\"Upanishad_Ch80\",\"Upanishad_Ch81\",\"Upanishad_Ch82\",\"Upanishad_Ch83\",\"Upanishad_Ch84\",\"Upanishad_Ch85\",\"Upanishad_Ch86\",\"Upanishad_Ch87\",\"Upanishad_Ch88\",\"Upanishad_Ch89\",\"Upanishad_Ch90\",\"Upanishad_Ch91\",\"Upanishad_Ch92\",\"Upanishad_Ch93\",\"Upanishad_Ch94\",\"Upanishad_Ch95\",\"Upanishad_Ch96\",\"Upanishad_Ch97\",\"Upanishad_Ch98\",\"Upanishad_Ch99\",\"Upanishad_Ch100\",\"Upanishad_Ch101\",\"Upanishad_Ch102\",\"Upanishad_Ch103\",\"Upanishad_Ch104\",\"Upanishad_Ch105\",\"Upanishad_Ch106\",\"Upanishad_Ch107\",\"Upanishad_Ch108\",\"Upanishad_Ch109\",\"Upanishad_Ch110\",\"Upanishad_Ch111\",\"Upanishad_Ch112\",\"Upanishad_Ch113\",\"Upanishad_Ch114\",\"Upanishad_Ch115\",\"Upanishad_Ch116\",\"Upanishad_Ch117\",\"Upanishad_Ch118\",\"Upanishad_Ch119\",\"Upanishad_Ch120\",\"Upanishad_Ch121\",\"Upanishad_Ch122\",\"Upanishad_Ch123\",\"Upanishad_Ch124\",\"Upanishad_Ch125\",\"Upanishad_Ch126\",\"Upanishad_Ch127\",\"Upanishad_Ch128\",\"Upanishad_Ch129\",\"Upanishad_Ch130\",\"Upanishad_Ch131\",\"Upanishad_Ch132\",\"Upanishad_Ch133\",\"Upanishad_Ch134\",\"Upanishad_Ch135\",\"Upanishad_Ch136\",\"Upanishad_Ch137\",\"Upanishad_Ch138\",\"Upanishad_Ch139\",\"Upanishad_Ch140\",\"Upanishad_Ch141\",\"Upanishad_Ch142\",\"Upanishad_Ch143\",\"Upanishad_Ch144\",\"Upanishad_Ch145\",\"Upanishad_Ch146\",\"Upanishad_Ch147\",\"Upanishad_Ch148\",\"Upanishad_Ch149\",\"Upanishad_Ch150\",\"Upanishad_Ch151\",\"Upanishad_Ch152\",\"Upanishad_Ch153\",\"Upanishad_Ch154\",\"Upanishad_Ch155\",\"Upanishad_Ch156\",\"Upanishad_Ch157\",\"Upanishad_Ch158\",\"Upanishad_Ch159\",\"Upanishad_Ch160\",\"Upanishad_Ch161\",\"Upanishad_Ch162\",\"YogaSutra_Ch1\",\"YogaSutra_Ch2\",\"YogaSutra_Ch3\",\"YogaSutra_Ch4\",\"YogaSutra_Ch5\",\"YogaSutra_Ch6\",\"YogaSutra_Ch7\",\"YogaSutra_Ch8\",\"YogaSutra_Ch9\",\"YogaSutra_Ch10\",\"YogaSutra_Ch11\",\"YogaSutra_Ch12\",\"YogaSutra_Ch13\",\"YogaSutra_Ch14\",\"YogaSutra_Ch15\",\"YogaSutra_Ch16\",\"YogaSutra_Ch17\",\"YogaSutra_Ch18\",\"YogaSutra_Ch19\",\"YogaSutra_Ch20\",\"YogaSutra_Ch21\",\"YogaSutra_Ch22\",\"YogaSutra_Ch23\",\"YogaSutra_Ch24\",\"YogaSutra_Ch25\",\"YogaSutra_Ch26\",\"YogaSutra_Ch27\",\"YogaSutra_Ch28\",\"YogaSutra_Ch29\",\"YogaSutra_Ch30\",\"YogaSutra_Ch31\",\"YogaSutra_Ch32\",\"YogaSutra_Ch33\",\"YogaSutra_Ch34\",\"YogaSutra_Ch35\",\"YogaSutra_Ch36\",\"YogaSutra_Ch37\",\"YogaSutra_Ch38\",\"YogaSutra_Ch39\",\"YogaSutra_Ch40\",\"YogaSutra_Ch41\",\"YogaSutra_Ch42\",\"YogaSutra_Ch43\",\"YogaSutra_Ch44\",\"YogaSutra_Ch45\",\"YogaSutra_Ch46\",\"YogaSutra_Ch47\",\"YogaSutra_Ch48\",\"YogaSutra_Ch49\",\"YogaSutra_Ch50\",\"YogaSutra_Ch51\",\"YogaSutra_Ch52\",\"YogaSutra_Ch53\",\"YogaSutra_Ch54\",\"YogaSutra_Ch55\",\"YogaSutra_Ch56\",\"YogaSutra_Ch57\",\"YogaSutra_Ch58\",\"YogaSutra_Ch59\",\"YogaSutra_Ch60\",\"YogaSutra_Ch61\",\"YogaSutra_Ch62\",\"YogaSutra_Ch63\",\"YogaSutra_Ch64\",\"YogaSutra_Ch65\",\"YogaSutra_Ch66\",\"YogaSutra_Ch67\",\"YogaSutra_Ch68\",\"YogaSutra_Ch69\",\"YogaSutra_Ch70\",\"YogaSutra_Ch71\",\"YogaSutra_Ch72\",\"YogaSutra_Ch73\",\"YogaSutra_Ch74\",\"YogaSutra_Ch75\",\"YogaSutra_Ch76\",\"YogaSutra_Ch77\",\"YogaSutra_Ch78\",\"YogaSutra_Ch79\",\"YogaSutra_Ch80\",\"YogaSutra_Ch81\",\"YogaSutra_Ch82\",\"YogaSutra_Ch83\",\"YogaSutra_Ch84\",\"YogaSutra_Ch85\",\"YogaSutra_Ch86\",\"YogaSutra_Ch87\",\"YogaSutra_Ch88\",\"YogaSutra_Ch89\",\"YogaSutra_Ch90\",\"YogaSutra_Ch91\",\"YogaSutra_Ch92\",\"YogaSutra_Ch93\",\"YogaSutra_Ch94\",\"YogaSutra_Ch95\",\"YogaSutra_Ch96\",\"YogaSutra_Ch97\",\"YogaSutra_Ch98\",\"YogaSutra_Ch99\",\"YogaSutra_Ch100\",\"YogaSutra_Ch101\",\"YogaSutra_Ch102\",\"YogaSutra_Ch103\",\"YogaSutra_Ch104\",\"YogaSutra_Ch105\",\"YogaSutra_Ch106\",\"YogaSutra_Ch107\",\"YogaSutra_Ch108\",\"YogaSutra_Ch109\",\"YogaSutra_Ch110\",\"YogaSutra_Ch111\",\"YogaSutra_Ch112\",\"YogaSutra_Ch113\",\"YogaSutra_Ch114\",\"YogaSutra_Ch115\",\"YogaSutra_Ch116\",\"YogaSutra_Ch117\",\"YogaSutra_Ch118\",\"YogaSutra_Ch119\",\"YogaSutra_Ch120\",\"YogaSutra_Ch121\",\"YogaSutra_Ch122\",\"YogaSutra_Ch123\",\"YogaSutra_Ch124\",\"YogaSutra_Ch125\",\"YogaSutra_Ch126\",\"YogaSutra_Ch127\",\"YogaSutra_Ch128\",\"YogaSutra_Ch129\",\"YogaSutra_Ch130\",\"YogaSutra_Ch131\",\"YogaSutra_Ch132\",\"YogaSutra_Ch133\",\"YogaSutra_Ch134\",\"YogaSutra_Ch135\",\"YogaSutra_Ch136\",\"YogaSutra_Ch137\",\"YogaSutra_Ch138\",\"YogaSutra_Ch139\",\"YogaSutra_Ch140\",\"YogaSutra_Ch141\",\"YogaSutra_Ch142\",\"YogaSutra_Ch143\",\"YogaSutra_Ch144\",\"YogaSutra_Ch145\",\"YogaSutra_Ch146\",\"YogaSutra_Ch147\",\"YogaSutra_Ch148\",\"YogaSutra_Ch149\",\"YogaSutra_Ch150\",\"YogaSutra_Ch151\",\"YogaSutra_Ch152\",\"YogaSutra_Ch153\",\"YogaSutra_Ch154\",\"YogaSutra_Ch155\",\"YogaSutra_Ch156\",\"YogaSutra_Ch157\",\"YogaSutra_Ch158\",\"YogaSutra_Ch159\",\"YogaSutra_Ch160\",\"YogaSutra_Ch161\",\"YogaSutra_Ch162\",\"YogaSutra_Ch163\",\"YogaSutra_Ch164\",\"YogaSutra_Ch165\",\"YogaSutra_Ch166\",\"YogaSutra_Ch167\",\"YogaSutra_Ch168\",\"YogaSutra_Ch169\",\"YogaSutra_Ch170\",\"YogaSutra_Ch171\",\"YogaSutra_Ch172\",\"YogaSutra_Ch173\",\"YogaSutra_Ch174\",\"YogaSutra_Ch175\",\"YogaSutra_Ch176\",\"YogaSutra_Ch177\",\"YogaSutra_Ch178\",\"YogaSutra_Ch179\",\"YogaSutra_Ch180\",\"YogaSutra_Ch181\",\"YogaSutra_Ch182\",\"YogaSutra_Ch183\",\"YogaSutra_Ch184\",\"YogaSutra_Ch185\",\"YogaSutra_Ch186\",\"YogaSutra_Ch187\",\"YogaSutra_Ch188\",\"YogaSutra_Ch189\",\"BookOfProverb_Ch1\",\"BookOfProverb_Ch2\",\"BookOfProverb_Ch3\",\"BookOfProverb_Ch4\",\"BookOfProverb_Ch5\",\"BookOfProverb_Ch6\",\"BookOfProverb_Ch7\",\"BookOfProverb_Ch8\",\"BookOfProverb_Ch9\",\"BookOfProverb_Ch10\",\"BookOfProverb_Ch11\",\"BookOfProverb_Ch12\",\"BookOfProverb_Ch13\",\"BookOfProverb_Ch14\",\"BookOfProverb_Ch15\",\"BookOfProverb_Ch16\",\"BookOfProverb_Ch17\",\"BookOfProverb_Ch18\",\"BookOfProverb_Ch19\",\"BookOfProverb_Ch20\",\"BookOfProverb_Ch21\",\"BookOfProverb_Ch22\",\"BookOfProverb_Ch23\",\"BookOfProverb_Ch24\",\"BookOfProverb_Ch25\",\"BookOfProverb_Ch26\",\"BookOfProverb_Ch27\",\"BookOfProverb_Ch28\",\"BookOfProverb_Ch29\",\"BookOfProverb_Ch30\",\"BookOfProverb_Ch31\",\"BookOfEcclesiastes_Ch1\",\"BookOfEcclesiastes_Ch2\",\"BookOfEcclesiastes_Ch3\",\"BookOfEcclesiastes_Ch4\",\"BookOfEcclesiastes_Ch5\",\"BookOfEcclesiastes_Ch6\",\"BookOfEcclesiastes_Ch7\",\"BookOfEcclesiastes_Ch8\",\"BookOfEcclesiastes_Ch9\",\"BookOfEcclesiastes_Ch10\",\"BookOfEcclesiastes_Ch11\",\"BookOfEcclesiastes_Ch12\",\"BookOfEccleasiasticus_Ch1\",\"BookOfEccleasiasticus_Ch2\",\"BookOfEccleasiasticus_Ch3\",\"BookOfEccleasiasticus_Ch4\",\"BookOfEccleasiasticus_Ch5\",\"BookOfEccleasiasticus_Ch6\",\"BookOfEccleasiasticus_Ch7\",\"BookOfEccleasiasticus_Ch8\",\"BookOfEccleasiasticus_Ch9\",\"BookOfEccleasiasticus_Ch10\",\"BookOfEccleasiasticus_Ch11\",\"BookOfEccleasiasticus_Ch12\",\"BookOfEccleasiasticus_Ch13\",\"BookOfEccleasiasticus_Ch14\",\"BookOfEccleasiasticus_Ch15\",\"BookOfEccleasiasticus_Ch16\",\"BookOfEccleasiasticus_Ch17\",\"BookOfEccleasiasticus_Ch18\",\"BookOfEccleasiasticus_Ch19\",\"BookOfEccleasiasticus_Ch20\",\"BookOfEccleasiasticus_Ch21\",\"BookOfEccleasiasticus_Ch22\",\"BookOfEccleasiasticus_Ch23\",\"BookOfEccleasiasticus_Ch24\",\"BookOfEccleasiasticus_Ch25\",\"BookOfEccleasiasticus_Ch26\",\"BookOfEccleasiasticus_Ch27\",\"BookOfEccleasiasticus_Ch28\",\"BookOfEccleasiasticus_Ch29\",\"BookOfEccleasiasticus_Ch30\",\"BookOfEccleasiasticus_Ch31\",\"BookOfEccleasiasticus_Ch32\",\"BookOfEccleasiasticus_Ch33\",\"BookOfEccleasiasticus_Ch34\",\"BookOfEccleasiasticus_Ch35\",\"BookOfEccleasiasticus_Ch36\",\"BookOfEccleasiasticus_Ch37\",\"BookOfEccleasiasticus_Ch38\",\"BookOfEccleasiasticus_Ch39\",\"BookOfEccleasiasticus_Ch40\",\"BookOfEccleasiasticus_Ch41\",\"BookOfEccleasiasticus_Ch42\",\"BookOfEccleasiasticus_Ch43\",\"BookOfEccleasiasticus_Ch44\",\"BookOfEccleasiasticus_Ch45\",\"BookOfEccleasiasticus_Ch46\",\"BookOfEccleasiasticus_Ch47\",\"BookOfEccleasiasticus_Ch48\",\"BookOfEccleasiasticus_Ch49\",\"BookOfEccleasiasticus_Ch50\",\"BookOfWisdom_Ch1\",\"BookOfWisdom_Ch2\",\"BookOfWisdom_Ch3\",\"BookOfWisdom_Ch4\",\"BookOfWisdom_Ch5\",\"BookOfWisdom_Ch6\",\"BookOfWisdom_Ch7\",\"BookOfWisdom_Ch8\",\"BookOfWisdom_Ch9\",\"BookOfWisdom_Ch10\",\"BookOfWisdom_Ch11\",\"BookOfWisdom_Ch12\",\"BookOfWisdom_Ch13\",\"BookOfWisdom_Ch14\",\"BookOfWisdom_Ch15\",\"BookOfWisdom_Ch16\",\"BookOfWisdom_Ch17\",\"BookOfWisdom_Ch18\",\"BookOfWisdom_Ch19\"],\"x\":[0,1,2,3,4,5,6,7,8,9,10,11,12,13,14,15,16,17,18,19,20,21,22,23,24,25,26,27,28,29,30,31,32,33,34,35,36,37,38,39,40,41,42,43,44,45,46,47,48,49,50,51,52,53,54,55,56,57,58,59,60,61,62,63,64,65,66,67,68,69,70,71,72,73,74,75,76,77,78,79,80,81,82,83,84,85,86,87,88,89,90,91,92,93,94,95,96,97,98,99,100,101,102,103,104,105,106,107,108,109,110,111,112,113,114,115,116,117,118,119,120,121,122,123,124,125,126,127,128,129,130,131,132,133,134,135,136,137,138,139,140,141,142,143,144,145,146,147,148,149,150,151,152,153,154,155,156,157,158,159,160,161,162,163,164,165,166,167,168,169,170,171,172,173,174,175,176,177,178,179,180,181,182,183,184,185,186,187,188,189,190,191,192,193,194,195,196,197,198,199,200,201,202,203,204,205,206,207,208,209,210,211,212,213,214,215,216,217,218,219,220,221,222,223,224,225,226,227,228,229,230,231,232,233,234,235,236,237,238,239,240,241,242,243,244,245,246,247,248,249,250,251,252,253,254,255,256,257,258,259,260,261,262,263,264,265,266,267,268,269,270,271,272,273,274,275,276,277,278,279,280,281,282,283,284,285,286,287,288,289,290,291,292,293,294,295,296,297,298,299,300,301,302,303,304,305,306,307,308,309,310,311,312,313,314,315,316,317,318,319,320,321,322,323,324,325,326,327,328,329,330,331,332,333,334,335,336,337,338,339,340,341,342,343,344,345,346,347,348,349,350,351,352,353,354,355,356,357,358,359,360,361,362,363,364,365,366,367,368,369,370,371,372,373,374,375,376,377,378,379,380,381,382,383,384,385,386,387,388,389,390,391,392,393,394,395,396,397,398,399,400,401,402,403,404,405,406,407,408,409,410,411,412,413,414,415,416,417,418,419,420,421,422,423,424,425,426,427,428,429,430,431,432,433,434,435,436,437,438,439,440,441,442,443,444,445,446,447,448,449,450,451,452,453,454,455,456,457,458,459,460,461,462,463,464,465,466,467,468,469,470,471,472,473,474,475,476,477,478,479,480,481,482,483,484,485,486,487,488,489,490,491,492,493,494,495,496,497,498,499,500,501,502,503,504,505,506,507,508,509,510,511,512,513,514,515,516,517,518,519,520,521,522,523,524,525,526,527,528,529,530,531,532,533,534,535,536,537,538,539,540,541,542,543,544,545,546,547,548,549,550,551,552,553,554,555,556,557,558,559,560,561,562,563,564,565,566,567,568,569,570,571,572,573,574,575,576,577,578,579,580,581,582,583,584,585,586,587,588,589],\"xaxis\":\"x\",\"y\":[1.5661749839782715,0.47302010655403137,0.21506740152835846,0.0,0.17408111691474915,0.11021138727664948,0.0,0.394284725189209,0.21724028885364532,0.0,0.5126965641975403,0.1956356018781662,0.0,0.04499640315771103,0.2557666003704071,0.18203774094581604,0.129171222448349,0.40364280343055725,0.09593645483255386,0.23721842467784882,0.4182190001010895,0.25322774052619934,0.0,0.0,0.0,0.12031161040067673,0.09765230119228363,0.0,0.0,0.0,0.1576700508594513,0.0,0.7650238275527954,0.02489626593887806,0.3337603509426117,0.44402384757995605,0.0468086302280426,0.5807467103004456,0.49132025241851807,0.0,0.48585110902786255,0.5769749879837036,0.0,0.0,0.39111968874931335,0.0,0.2649582624435425,0.0,0.0,0.3275275230407715,0.26144522428512573,0.27604585886001587,0.0,0.031238045543432236,0.22916744649410248,0.37639695405960083,0.0,0.6021506786346436,0.0,0.3355667293071747,0.6206409335136414,0.7449830174446106,0.0,0.3907008767127991,0.28245997428894043,0.5783520340919495,0.9525195360183716,0.3479901850223541,0.19460676610469818,0.8545119166374207,0.8062310218811035,0.14800432324409485,0.6841431260108948,0.7013646364212036,0.0,0.40673360228538513,0.0,0.3398416042327881,0.10123375803232193,0.361215204000473,0.5369861125946045,0.0,0.03654523938894272,0.04897915571928024,0.7979928255081177,0.2533235251903534,0.4194350242614746,0.0,0.6789848208427429,0.45504897832870483,0.0,0.44373229146003723,0.06213732808828354,0.17318876087665558,0.21171213686466217,0.0,0.0426451601088047,0.03475051745772362,0.005241083912551403,0.0,0.20528805255889893,0.0,0.0,0.18748092651367188,0.20977365970611572,0.06944072991609573,0.0,0.2776034474372864,0.2164030373096466,0.127031147480011,0.35978269577026367,0.3628466725349426,0.0,0.5075104832649231,0.9192911982536316,0.1427874118089676,0.01820686273276806,0.15907615423202515,0.3031538724899292,0.2200920581817627,0.0,0.36729055643081665,0.029849033802747726,0.257418155670166,0.31422701478004456,0.25255823135375977,0.11649957299232483,0.6862417459487915,0.0,0.0,0.0,0.23042495548725128,0.043232616037130356,0.012504838407039642,0.0,0.03860771283507347,0.10864892601966858,0.3615398705005646,0.03237072378396988,0.04171539098024368,0.5760029554367065,0.15428559482097626,0.37306562066078186,0.0,0.10908930748701096,0.31609466671943665,0.0,0.4349135756492615,0.09004881232976913,0.23445987701416016,0.0,0.5441834330558777,0.0,0.22816817462444305,0.09347809106111526,0.08346609026193619,0.006952278781682253,0.050621647387742996,0.07301470637321472,0.2244623601436615,0.2357408106327057,0.0,0.8027152419090271,0.03929079696536064,0.0,0.1741572469472885,0.11198172718286514,0.0,0.0,0.31623026728630066,0.0,0.3670642673969269,0.12328246235847473,0.12715286016464233,0.2447214126586914,0.8542487025260925,0.13132229447364807,0.5872086882591248,0.1965751051902771,0.0,0.0,0.16345973312854767,0.2624834477901459,0.0,0.02237066626548767,0.0,0.18462377786636353,0.0,0.0,0.0,0.0222066231071949,0.08386421203613281,0.29814186692237854,0.0,0.2561699151992798,0.107767753303051,0.426992267370224,0.0,0.23963475227355957,0.0,0.050622373819351196,0.23145779967308044,0.0,0.0,0.5996283888816833,0.05132541432976723,0.04173973947763443,0.05157874524593353,0.5517942309379578,0.24205757677555084,0.0,0.21525633335113525,0.0,0.23559562861919403,0.11151165515184402,0.21499519050121307,0.17254528403282166,0.0,0.048720669001340866,0.0,0.05543375015258789,0.08786620199680328,0.3632047474384308,0.34601086378097534,0.0,0.15937042236328125,0.5915595889091492,0.0,0.13608816266059875,0.0,0.09413062036037445,0.09624674916267395,0.15851831436157227,0.0,0.0,0.10352391004562378,0.36413872241973877,0.09432269632816315,0.3602026402950287,0.17948755621910095,0.0,0.47851651906967163,0.177656352519989,0.0,0.6006067991256714,0.323822557926178,0.054748620837926865,0.0,0.2357492595911026,0.24828818440437317,0.18926003575325012,0.12244751304388046,0.24427515268325806,0.013920031487941742,0.0,0.09422264248132706,0.7273462414741516,0.7501959800720215,0.5107202529907227,0.09232784062623978,0.07002038508653641,0.06432054936885834,0.01953614316880703,0.05670260265469551,0.0,0.34287145733833313,0.20888467133045197,0.2462235540151596,0.3441919982433319,0.03520219027996063,0.2146371752023697,0.1084124892950058,0.0,0.0,0.2539770305156708,0.1330035924911499,0.04899189993739128,0.03735652193427086,0.0501398891210556,0.0,0.05904104933142662,0.008153681643307209,0.0,0.0,0.19105744361877441,0.0,0.05532632768154144,0.11556073278188705,0.0,0.0,0.05011135712265968,0.7438370585441589,0.014235229231417179,0.016123615205287933,0.23456856608390808,0.4147731065750122,0.09686283767223358,0.10902898013591766,0.0,0.4951840341091156,0.36058634519577026,0.009391196072101593,0.0,0.06108994781970978,0.17352288961410522,0.24828360974788666,0.0,0.0,0.08414459973573685,0.0,0.19042371213436127,0.0,0.0,0.25369763374328613,0.36197513341903687,0.28203243017196655,0.0,0.0,0.40724417567253113,0.11026600748300552,0.5330231189727783,0.1981564462184906,0.17347025871276855,0.0,0.5194041132926941,0.4280757009983063,0.30560117959976196,0.0,0.5083006620407104,0.0,0.032022856175899506,0.03550979122519493,0.2257380485534668,0.0,0.09444839507341385,0.19281168282032013,0.0,0.15634161233901978,0.9967377781867981,0.0,0.1986534297466278,0.1008135974407196,0.19478030502796173,0.40731146931648254,0.0,0.2781776785850525,0.39402034878730774,0.2356107383966446,0.16794806718826294,0.01406107097864151,0.19153620302677155,0.3590477705001831,0.5923912525177002,0.3041874170303345,0.11582568287849426,0.33612874150276184,0.09885038435459137,0.0,0.2927505373954773,0.18061907589435577,0.4094301164150238,0.14136679470539093,0.23716646432876587,0.09910242259502411,0.33302080631256104,0.15810033679008484,0.41220834851264954,0.49205341935157776,0.18840162456035614,0.335671067237854,0.45944929122924805,0.28525587916374207,0.19824707508087158,0.1297084391117096,0.4879210591316223,0.48112374544143677,0.2429729849100113,0.6383475065231323,0.0510689876973629,0.0,0.0,0.2810591757297516,0.15966439247131348,0.3784610331058502,0.44542983174324036,0.40198901295661926,0.2876415550708771,0.0,0.0,0.7554341554641724,0.0,0.0,0.0,0.21636946499347687,0.2532440721988678,0.3340194821357727,0.0,0.4980021119117737,0.028977474197745323,0.0,0.0,1.0195363759994507,0.922183632850647,0.19042760133743286,0.0,0.048184048384428024,0.0,0.07810623943805695,0.0916200801730156,0.16557538509368896,0.0,0.7529938817024231,0.10885529220104218,0.0,0.08610833436250687,0.0,0.0,0.160204216837883,0.33840176463127136,0.3852350115776062,0.0,0.0,0.21344110369682312,0.36285629868507385,0.0,0.0,0.2544878125190735,0.2507464587688446,0.19498246908187866,0.8730148673057556,0.3604497015476227,0.1392059475183487,0.05927227810025215,0.0,0.0,0.27391353249549866,0.2123778611421585,0.40461209416389465,0.3802163004875183,0.08315034210681915,0.0,0.2743082344532013,0.30826234817504883,0.05284985154867172,0.0,0.13756346702575684,0.0,0.25972700119018555,0.2699819505214691,0.8041956424713135,0.12219081073999405,0.0,0.23671755194664001,0.13484475016593933,0.0408371202647686,0.0,0.0,0.23309855163097382,0.06679071485996246,0.8309349417686462,0.8636214733123779,0.20619267225265503,0.478413462638855,0.1856306493282318,0.0,0.9054120182991028,0.0,0.6461083292961121,0.3382970094680786,0.0,0.27130699157714844,0.2730521261692047,0.04829595237970352,0.28238222002983093,0.19659627974033356,0.10708892345428467,0.29960742592811584,0.37728577852249146,0.09391319006681442,0.42311835289001465,0.1147584542632103,0.4022339880466461,0.0,0.46585607528686523,0.02725561521947384,0.5575913786888123,0.2795099914073944,0.3586648404598236,0.6388022303581238,0.8096912503242493,0.24131876230239868,0.0,0.0,0.542685866355896,0.17409159243106842,0.13411441445350647,0.0,0.5889833569526672,0.0,0.0,0.6198320984840393,0.0,0.38283514976501465,0.8542210459709167,0.0,0.6555094718933105,0.0,0.4492112994194031,0.7999109029769897,0.46811118721961975,0.9651791453361511,0.0,0.4146597683429718,0.0,0.0,0.22788943350315094,0.0,0.11918255686759949,0.12310981005430222,0.2561783790588379,0.6905640959739685,0.0,0.1481182873249054,0.3170916438102722,0.29494792222976685,1.0283453464508057,1.0533149242401123,0.0,0.09384185075759888,0.6217097043991089,0.7306675910949707,0.0,0.48887136578559875,0.0,1.285980224609375,0.6773455739021301,0.08884265273809433,0.0,0.5501507520675659,0.2816810607910156,0.7059358358383179,0.0,0.28038060665130615,0.30575355887413025,0.22987346351146698,0.0,0.9328532814979553,0.0,0.17655131220817566,0.16429831087589264,0.0,0.9097787737846375,0.378909707069397,0.7486540079116821,0.8786977529525757,0.0,1.3913660049438477,0.5754243731498718,0.41811078786849976,1.1442079544067383,0.478056401014328,0.8304085731506348,0.5020503997802734,0.7704967856407166,0.0,0.0,0.0,0.0,0.0,0.0,0.0,0.0,0.858257532119751,0.2041826844215393,0.26622167229652405,0.0,0.8214187622070312,0.8414756059646606,0.5170058012008667,0.417736679315567,0.0,0.13945704698562622,0.4416462481021881,0.5171558856964111,0.0,0.6531736850738525,0.0,0.0,0.0,0.7286454439163208],\"yaxis\":\"y\",\"type\":\"scatter\"}],                        {\"template\":{\"data\":{\"bar\":[{\"error_x\":{\"color\":\"#2a3f5f\"},\"error_y\":{\"color\":\"#2a3f5f\"},\"marker\":{\"line\":{\"color\":\"#E5ECF6\",\"width\":0.5},\"pattern\":{\"fillmode\":\"overlay\",\"size\":10,\"solidity\":0.2}},\"type\":\"bar\"}],\"barpolar\":[{\"marker\":{\"line\":{\"color\":\"#E5ECF6\",\"width\":0.5},\"pattern\":{\"fillmode\":\"overlay\",\"size\":10,\"solidity\":0.2}},\"type\":\"barpolar\"}],\"carpet\":[{\"aaxis\":{\"endlinecolor\":\"#2a3f5f\",\"gridcolor\":\"white\",\"linecolor\":\"white\",\"minorgridcolor\":\"white\",\"startlinecolor\":\"#2a3f5f\"},\"baxis\":{\"endlinecolor\":\"#2a3f5f\",\"gridcolor\":\"white\",\"linecolor\":\"white\",\"minorgridcolor\":\"white\",\"startlinecolor\":\"#2a3f5f\"},\"type\":\"carpet\"}],\"choropleth\":[{\"colorbar\":{\"outlinewidth\":0,\"ticks\":\"\"},\"type\":\"choropleth\"}],\"contour\":[{\"colorbar\":{\"outlinewidth\":0,\"ticks\":\"\"},\"colorscale\":[[0.0,\"#0d0887\"],[0.1111111111111111,\"#46039f\"],[0.2222222222222222,\"#7201a8\"],[0.3333333333333333,\"#9c179e\"],[0.4444444444444444,\"#bd3786\"],[0.5555555555555556,\"#d8576b\"],[0.6666666666666666,\"#ed7953\"],[0.7777777777777778,\"#fb9f3a\"],[0.8888888888888888,\"#fdca26\"],[1.0,\"#f0f921\"]],\"type\":\"contour\"}],\"contourcarpet\":[{\"colorbar\":{\"outlinewidth\":0,\"ticks\":\"\"},\"type\":\"contourcarpet\"}],\"heatmap\":[{\"colorbar\":{\"outlinewidth\":0,\"ticks\":\"\"},\"colorscale\":[[0.0,\"#0d0887\"],[0.1111111111111111,\"#46039f\"],[0.2222222222222222,\"#7201a8\"],[0.3333333333333333,\"#9c179e\"],[0.4444444444444444,\"#bd3786\"],[0.5555555555555556,\"#d8576b\"],[0.6666666666666666,\"#ed7953\"],[0.7777777777777778,\"#fb9f3a\"],[0.8888888888888888,\"#fdca26\"],[1.0,\"#f0f921\"]],\"type\":\"heatmap\"}],\"heatmapgl\":[{\"colorbar\":{\"outlinewidth\":0,\"ticks\":\"\"},\"colorscale\":[[0.0,\"#0d0887\"],[0.1111111111111111,\"#46039f\"],[0.2222222222222222,\"#7201a8\"],[0.3333333333333333,\"#9c179e\"],[0.4444444444444444,\"#bd3786\"],[0.5555555555555556,\"#d8576b\"],[0.6666666666666666,\"#ed7953\"],[0.7777777777777778,\"#fb9f3a\"],[0.8888888888888888,\"#fdca26\"],[1.0,\"#f0f921\"]],\"type\":\"heatmapgl\"}],\"histogram\":[{\"marker\":{\"pattern\":{\"fillmode\":\"overlay\",\"size\":10,\"solidity\":0.2}},\"type\":\"histogram\"}],\"histogram2d\":[{\"colorbar\":{\"outlinewidth\":0,\"ticks\":\"\"},\"colorscale\":[[0.0,\"#0d0887\"],[0.1111111111111111,\"#46039f\"],[0.2222222222222222,\"#7201a8\"],[0.3333333333333333,\"#9c179e\"],[0.4444444444444444,\"#bd3786\"],[0.5555555555555556,\"#d8576b\"],[0.6666666666666666,\"#ed7953\"],[0.7777777777777778,\"#fb9f3a\"],[0.8888888888888888,\"#fdca26\"],[1.0,\"#f0f921\"]],\"type\":\"histogram2d\"}],\"histogram2dcontour\":[{\"colorbar\":{\"outlinewidth\":0,\"ticks\":\"\"},\"colorscale\":[[0.0,\"#0d0887\"],[0.1111111111111111,\"#46039f\"],[0.2222222222222222,\"#7201a8\"],[0.3333333333333333,\"#9c179e\"],[0.4444444444444444,\"#bd3786\"],[0.5555555555555556,\"#d8576b\"],[0.6666666666666666,\"#ed7953\"],[0.7777777777777778,\"#fb9f3a\"],[0.8888888888888888,\"#fdca26\"],[1.0,\"#f0f921\"]],\"type\":\"histogram2dcontour\"}],\"mesh3d\":[{\"colorbar\":{\"outlinewidth\":0,\"ticks\":\"\"},\"type\":\"mesh3d\"}],\"parcoords\":[{\"line\":{\"colorbar\":{\"outlinewidth\":0,\"ticks\":\"\"}},\"type\":\"parcoords\"}],\"pie\":[{\"automargin\":true,\"type\":\"pie\"}],\"scatter\":[{\"marker\":{\"colorbar\":{\"outlinewidth\":0,\"ticks\":\"\"}},\"type\":\"scatter\"}],\"scatter3d\":[{\"line\":{\"colorbar\":{\"outlinewidth\":0,\"ticks\":\"\"}},\"marker\":{\"colorbar\":{\"outlinewidth\":0,\"ticks\":\"\"}},\"type\":\"scatter3d\"}],\"scattercarpet\":[{\"marker\":{\"colorbar\":{\"outlinewidth\":0,\"ticks\":\"\"}},\"type\":\"scattercarpet\"}],\"scattergeo\":[{\"marker\":{\"colorbar\":{\"outlinewidth\":0,\"ticks\":\"\"}},\"type\":\"scattergeo\"}],\"scattergl\":[{\"marker\":{\"colorbar\":{\"outlinewidth\":0,\"ticks\":\"\"}},\"type\":\"scattergl\"}],\"scattermapbox\":[{\"marker\":{\"colorbar\":{\"outlinewidth\":0,\"ticks\":\"\"}},\"type\":\"scattermapbox\"}],\"scatterpolar\":[{\"marker\":{\"colorbar\":{\"outlinewidth\":0,\"ticks\":\"\"}},\"type\":\"scatterpolar\"}],\"scatterpolargl\":[{\"marker\":{\"colorbar\":{\"outlinewidth\":0,\"ticks\":\"\"}},\"type\":\"scatterpolargl\"}],\"scatterternary\":[{\"marker\":{\"colorbar\":{\"outlinewidth\":0,\"ticks\":\"\"}},\"type\":\"scatterternary\"}],\"surface\":[{\"colorbar\":{\"outlinewidth\":0,\"ticks\":\"\"},\"colorscale\":[[0.0,\"#0d0887\"],[0.1111111111111111,\"#46039f\"],[0.2222222222222222,\"#7201a8\"],[0.3333333333333333,\"#9c179e\"],[0.4444444444444444,\"#bd3786\"],[0.5555555555555556,\"#d8576b\"],[0.6666666666666666,\"#ed7953\"],[0.7777777777777778,\"#fb9f3a\"],[0.8888888888888888,\"#fdca26\"],[1.0,\"#f0f921\"]],\"type\":\"surface\"}],\"table\":[{\"cells\":{\"fill\":{\"color\":\"#EBF0F8\"},\"line\":{\"color\":\"white\"}},\"header\":{\"fill\":{\"color\":\"#C8D4E3\"},\"line\":{\"color\":\"white\"}},\"type\":\"table\"}]},\"layout\":{\"annotationdefaults\":{\"arrowcolor\":\"#2a3f5f\",\"arrowhead\":0,\"arrowwidth\":1},\"autotypenumbers\":\"strict\",\"coloraxis\":{\"colorbar\":{\"outlinewidth\":0,\"ticks\":\"\"}},\"colorscale\":{\"diverging\":[[0,\"#8e0152\"],[0.1,\"#c51b7d\"],[0.2,\"#de77ae\"],[0.3,\"#f1b6da\"],[0.4,\"#fde0ef\"],[0.5,\"#f7f7f7\"],[0.6,\"#e6f5d0\"],[0.7,\"#b8e186\"],[0.8,\"#7fbc41\"],[0.9,\"#4d9221\"],[1,\"#276419\"]],\"sequential\":[[0.0,\"#0d0887\"],[0.1111111111111111,\"#46039f\"],[0.2222222222222222,\"#7201a8\"],[0.3333333333333333,\"#9c179e\"],[0.4444444444444444,\"#bd3786\"],[0.5555555555555556,\"#d8576b\"],[0.6666666666666666,\"#ed7953\"],[0.7777777777777778,\"#fb9f3a\"],[0.8888888888888888,\"#fdca26\"],[1.0,\"#f0f921\"]],\"sequentialminus\":[[0.0,\"#0d0887\"],[0.1111111111111111,\"#46039f\"],[0.2222222222222222,\"#7201a8\"],[0.3333333333333333,\"#9c179e\"],[0.4444444444444444,\"#bd3786\"],[0.5555555555555556,\"#d8576b\"],[0.6666666666666666,\"#ed7953\"],[0.7777777777777778,\"#fb9f3a\"],[0.8888888888888888,\"#fdca26\"],[1.0,\"#f0f921\"]]},\"colorway\":[\"#636efa\",\"#EF553B\",\"#00cc96\",\"#ab63fa\",\"#FFA15A\",\"#19d3f3\",\"#FF6692\",\"#B6E880\",\"#FF97FF\",\"#FECB52\"],\"font\":{\"color\":\"#2a3f5f\"},\"geo\":{\"bgcolor\":\"white\",\"lakecolor\":\"white\",\"landcolor\":\"#E5ECF6\",\"showlakes\":true,\"showland\":true,\"subunitcolor\":\"white\"},\"hoverlabel\":{\"align\":\"left\"},\"hovermode\":\"closest\",\"mapbox\":{\"style\":\"light\"},\"paper_bgcolor\":\"white\",\"plot_bgcolor\":\"#E5ECF6\",\"polar\":{\"angularaxis\":{\"gridcolor\":\"white\",\"linecolor\":\"white\",\"ticks\":\"\"},\"bgcolor\":\"#E5ECF6\",\"radialaxis\":{\"gridcolor\":\"white\",\"linecolor\":\"white\",\"ticks\":\"\"}},\"scene\":{\"xaxis\":{\"backgroundcolor\":\"#E5ECF6\",\"gridcolor\":\"white\",\"gridwidth\":2,\"linecolor\":\"white\",\"showbackground\":true,\"ticks\":\"\",\"zerolinecolor\":\"white\"},\"yaxis\":{\"backgroundcolor\":\"#E5ECF6\",\"gridcolor\":\"white\",\"gridwidth\":2,\"linecolor\":\"white\",\"showbackground\":true,\"ticks\":\"\",\"zerolinecolor\":\"white\"},\"zaxis\":{\"backgroundcolor\":\"#E5ECF6\",\"gridcolor\":\"white\",\"gridwidth\":2,\"linecolor\":\"white\",\"showbackground\":true,\"ticks\":\"\",\"zerolinecolor\":\"white\"}},\"shapedefaults\":{\"line\":{\"color\":\"#2a3f5f\"}},\"ternary\":{\"aaxis\":{\"gridcolor\":\"white\",\"linecolor\":\"white\",\"ticks\":\"\"},\"baxis\":{\"gridcolor\":\"white\",\"linecolor\":\"white\",\"ticks\":\"\"},\"bgcolor\":\"#E5ECF6\",\"caxis\":{\"gridcolor\":\"white\",\"linecolor\":\"white\",\"ticks\":\"\"}},\"title\":{\"x\":0.05},\"xaxis\":{\"automargin\":true,\"gridcolor\":\"white\",\"linecolor\":\"white\",\"ticks\":\"\",\"title\":{\"standoff\":15},\"zerolinecolor\":\"white\",\"zerolinewidth\":2},\"yaxis\":{\"automargin\":true,\"gridcolor\":\"white\",\"linecolor\":\"white\",\"ticks\":\"\",\"title\":{\"standoff\":15},\"zerolinecolor\":\"white\",\"zerolinewidth\":2}}},\"xaxis\":{\"anchor\":\"y\",\"domain\":[0.0,1.0],\"title\":{\"text\":\"index\"}},\"yaxis\":{\"anchor\":\"x\",\"domain\":[0.0,1.0],\"title\":{\"text\":\"y\"}},\"coloraxis\":{\"colorbar\":{\"title\":{\"text\":\"color\"}},\"colorscale\":[[0.0,\"#0d0887\"],[0.1111111111111111,\"#46039f\"],[0.2222222222222222,\"#7201a8\"],[0.3333333333333333,\"#9c179e\"],[0.4444444444444444,\"#bd3786\"],[0.5555555555555556,\"#d8576b\"],[0.6666666666666666,\"#ed7953\"],[0.7777777777777778,\"#fb9f3a\"],[0.8888888888888888,\"#fdca26\"],[1.0,\"#f0f921\"]]},\"legend\":{\"tracegroupgap\":0},\"margin\":{\"t\":60}},                        {\"responsive\": true}                    ).then(function(){\n",
              "                            \n",
              "var gd = document.getElementById('f634b738-750e-41df-bee8-b7e571da40ba');\n",
              "var x = new MutationObserver(function (mutations, observer) {{\n",
              "        var display = window.getComputedStyle(gd).display;\n",
              "        if (!display || display === 'none') {{\n",
              "            console.log([gd, 'removed!']);\n",
              "            Plotly.purge(gd);\n",
              "            observer.disconnect();\n",
              "        }}\n",
              "}});\n",
              "\n",
              "// Listen for the removal of the full notebook cells\n",
              "var notebookContainer = gd.closest('#notebook-container');\n",
              "if (notebookContainer) {{\n",
              "    x.observe(notebookContainer, {childList: true});\n",
              "}}\n",
              "\n",
              "// Listen for the clearing of the current output cell\n",
              "var outputEl = gd.closest('.output');\n",
              "if (outputEl) {{\n",
              "    x.observe(outputEl, {childList: true});\n",
              "}}\n",
              "\n",
              "                        })                };                            </script>        </div>\n",
              "</body>\n",
              "</html>"
            ]
          },
          "metadata": {}
        }
      ]
    },
    {
      "cell_type": "code",
      "source": [
        "import plotly.express as px\n",
        "\n",
        "pd.options.plotting.backend = \"plotly\"\n",
        "figplotly2 = px.scatter(encoded_x_train[:,0], y=encoded_x_train[:,1],color=q[\"class\"])\n",
        "figplotly2.show()\n",
        "#st.plotly_chart(figplotly1, use_container_width=True)"
      ],
      "metadata": {
        "colab": {
          "base_uri": "https://localhost:8080/",
          "height": 542
        },
        "id": "behf-cb1rF6G",
        "outputId": "30f4f592-30ab-4b8c-e311-cd21641dca27"
      },
      "execution_count": 46,
      "outputs": [
        {
          "output_type": "display_data",
          "data": {
            "text/html": [
              "<html>\n",
              "<head><meta charset=\"utf-8\" /></head>\n",
              "<body>\n",
              "    <div>            <script src=\"https://cdnjs.cloudflare.com/ajax/libs/mathjax/2.7.5/MathJax.js?config=TeX-AMS-MML_SVG\"></script><script type=\"text/javascript\">if (window.MathJax) {MathJax.Hub.Config({SVG: {font: \"STIX-Web\"}});}</script>                <script type=\"text/javascript\">window.PlotlyConfig = {MathJaxConfig: 'local'};</script>\n",
              "        <script src=\"https://cdn.plot.ly/plotly-2.8.3.min.js\"></script>                <div id=\"83ffe752-5608-4036-8751-5acfd8ee501c\" class=\"plotly-graph-div\" style=\"height:525px; width:100%;\"></div>            <script type=\"text/javascript\">                                    window.PLOTLYENV=window.PLOTLYENV || {};                                    if (document.getElementById(\"83ffe752-5608-4036-8751-5acfd8ee501c\")) {                    Plotly.newPlot(                        \"83ffe752-5608-4036-8751-5acfd8ee501c\",                        [{\"hovertemplate\":\"index=%{x}<br>y=%{y}<br>color=%{marker.color}<extra></extra>\",\"legendgroup\":\"\",\"marker\":{\"color\":[4,4,4,4,4,4,4,4,4,4,4,4,4,4,4,4,4,4,4,4,4,4,4,4,4,4,4,4,4,4,4,4,4,4,4,4,4,4,4,4,4,4,4,4,4,4,2,2,2,2,2,2,2,2,2,2,2,2,2,2,2,2,2,2,2,2,2,2,2,2,2,2,2,2,2,2,2,2,2,2,2,2,2,2,2,2,2,2,2,2,2,2,2,2,2,2,2,2,2,2,2,2,2,2,2,2,2,2,2,2,2,2,2,2,2,2,2,2,2,2,2,2,2,2,2,2,2,1,1,1,1,1,1,1,1,1,1,1,1,1,1,1,1,1,1,1,1,1,1,1,1,1,1,1,1,1,1,1,1,1,1,1,1,1,1,1,1,1,1,1,1,1,1,1,1,1,1,1,1,1,1,1,1,1,1,1,1,1,1,1,1,1,1,1,1,1,1,1,1,1,1,1,1,1,1,1,1,1,1,1,1,1,1,1,1,1,1,1,1,1,1,1,1,1,1,1,1,1,1,1,1,1,1,1,1,1,1,1,1,1,1,1,1,1,1,1,1,1,1,1,1,1,1,1,1,1,1,1,1,1,1,1,1,1,1,1,1,1,1,1,1,1,1,1,1,1,1,1,1,1,1,1,1,1,1,1,1,1,1,2,2,2,2,2,2,2,2,2,2,2,2,2,2,2,2,2,2,2,2,2,2,2,2,2,2,2,2,2,2,2,2,2,2,2,2,2,2,2,2,2,2,2,2,2,2,2,2,2,2,2,2,2,2,2,2,2,2,2,2,2,2,2,2,2,2,2,2,2,2,2,2,2,2,2,2,2,2,2,2,2,2,2,2,2,2,2,2,2,2,2,2,2,2,2,2,2,2,2,2,2,2,2,2,2,2,2,2,2,2,2,2,2,2,2,2,2,2,2,2,2,2,2,2,2,2,2,2,2,2,2,2,2,2,2,2,2,2,2,2,2,2,2,2,2,2,2,2,2,2,2,2,2,2,2,2,2,2,2,2,2,2,2,2,2,2,2,2,2,2,2,2,2,2,2,2,2,2,2,2,2,2,2,2,2,2,2,2,2,0,0,0,0,0,0,0,0,0,0,0,0,0,0,0,0,0,0,0,0,0,0,0,0,0,0,0,0,0,0,0,0,0,0,0,0,0,0,0,0,0,0,0,0,0,0,0,0,0,0,0,0,0,0,0,0,0,0,0,0,0,0,0,0,0,0,0,0,0,0,0,0,0,0,0,0,0,0,0,0,0,0,0,0,0,0,0,0,0,0,0,0,0,0,0,0,0,0,0,0,0,0,0,0,0,0,0,0,0,0,0,0],\"coloraxis\":\"coloraxis\",\"symbol\":\"circle\"},\"mode\":\"markers\",\"name\":\"\",\"orientation\":\"v\",\"showlegend\":false,\"x\":[0,1,2,3,4,5,6,7,8,9,10,11,12,13,14,15,16,17,18,19,20,21,22,23,24,25,26,27,28,29,30,31,32,33,34,35,36,37,38,39,40,41,42,43,44,45,46,47,48,49,50,51,52,53,54,55,56,57,58,59,60,61,62,63,64,65,66,67,68,69,70,71,72,73,74,75,76,77,78,79,80,81,82,83,84,85,86,87,88,89,90,91,92,93,94,95,96,97,98,99,100,101,102,103,104,105,106,107,108,109,110,111,112,113,114,115,116,117,118,119,120,121,122,123,124,125,126,127,128,129,130,131,132,133,134,135,136,137,138,139,140,141,142,143,144,145,146,147,148,149,150,151,152,153,154,155,156,157,158,159,160,161,162,163,164,165,166,167,168,169,170,171,172,173,174,175,176,177,178,179,180,181,182,183,184,185,186,187,188,189,190,191,192,193,194,195,196,197,198,199,200,201,202,203,204,205,206,207,208,209,210,211,212,213,214,215,216,217,218,219,220,221,222,223,224,225,226,227,228,229,230,231,232,233,234,235,236,237,238,239,240,241,242,243,244,245,246,247,248,249,250,251,252,253,254,255,256,257,258,259,260,261,262,263,264,265,266,267,268,269,270,271,272,273,274,275,276,277,278,279,280,281,282,283,284,285,286,287,288,289,290,291,292,293,294,295,296,297,298,299,300,301,302,303,304,305,306,307,308,309,310,311,312,313,314,315,316,317,318,319,320,321,322,323,324,325,326,327,328,329,330,331,332,333,334,335,336,337,338,339,340,341,342,343,344,345,346,347,348,349,350,351,352,353,354,355,356,357,358,359,360,361,362,363,364,365,366,367,368,369,370,371,372,373,374,375,376,377,378,379,380,381,382,383,384,385,386,387,388,389,390,391,392,393,394,395,396,397,398,399,400,401,402,403,404,405,406,407,408,409,410,411,412,413,414,415,416,417,418,419,420,421,422,423,424,425,426,427,428,429,430,431,432,433,434,435,436,437,438,439,440,441,442,443,444,445,446,447,448,449,450,451,452,453,454,455,456,457,458,459,460,461,462,463,464,465,466,467,468,469,470,471,472,473,474,475,476,477,478,479,480,481,482,483,484,485,486,487,488,489,490,491,492,493,494,495,496,497,498,499,500,501,502,503,504,505,506,507,508,509,510,511,512,513,514,515,516,517,518,519,520,521,522,523,524,525,526,527,528,529,530,531,532,533,534,535,536,537,538,539,540,541,542,543,544,545,546,547,548,549,550,551,552,553,554,555,556,557,558,559,560,561,562,563,564,565,566,567,568,569,570,571,572,573,574,575,576,577,578,579,580,581,582,583,584,585,586,587,588,589],\"xaxis\":\"x\",\"y\":[1.5661749839782715,0.47302010655403137,0.21506740152835846,0.0,0.17408111691474915,0.11021138727664948,0.0,0.394284725189209,0.21724028885364532,0.0,0.5126965641975403,0.1956356018781662,0.0,0.04499640315771103,0.2557666003704071,0.18203774094581604,0.129171222448349,0.40364280343055725,0.09593645483255386,0.23721842467784882,0.4182190001010895,0.25322774052619934,0.0,0.0,0.0,0.12031161040067673,0.09765230119228363,0.0,0.0,0.0,0.1576700508594513,0.0,0.7650238275527954,0.02489626593887806,0.3337603509426117,0.44402384757995605,0.0468086302280426,0.5807467103004456,0.49132025241851807,0.0,0.48585110902786255,0.5769749879837036,0.0,0.0,0.39111968874931335,0.0,0.2649582624435425,0.0,0.0,0.3275275230407715,0.26144522428512573,0.27604585886001587,0.0,0.031238045543432236,0.22916744649410248,0.37639695405960083,0.0,0.6021506786346436,0.0,0.3355667293071747,0.6206409335136414,0.7449830174446106,0.0,0.3907008767127991,0.28245997428894043,0.5783520340919495,0.9525195360183716,0.3479901850223541,0.19460676610469818,0.8545119166374207,0.8062310218811035,0.14800432324409485,0.6841431260108948,0.7013646364212036,0.0,0.40673360228538513,0.0,0.3398416042327881,0.10123375803232193,0.361215204000473,0.5369861125946045,0.0,0.03654523938894272,0.04897915571928024,0.7979928255081177,0.2533235251903534,0.4194350242614746,0.0,0.6789848208427429,0.45504897832870483,0.0,0.44373229146003723,0.06213732808828354,0.17318876087665558,0.21171213686466217,0.0,0.0426451601088047,0.03475051745772362,0.005241083912551403,0.0,0.20528805255889893,0.0,0.0,0.18748092651367188,0.20977365970611572,0.06944072991609573,0.0,0.2776034474372864,0.2164030373096466,0.127031147480011,0.35978269577026367,0.3628466725349426,0.0,0.5075104832649231,0.9192911982536316,0.1427874118089676,0.01820686273276806,0.15907615423202515,0.3031538724899292,0.2200920581817627,0.0,0.36729055643081665,0.029849033802747726,0.257418155670166,0.31422701478004456,0.25255823135375977,0.11649957299232483,0.6862417459487915,0.0,0.0,0.0,0.23042495548725128,0.043232616037130356,0.012504838407039642,0.0,0.03860771283507347,0.10864892601966858,0.3615398705005646,0.03237072378396988,0.04171539098024368,0.5760029554367065,0.15428559482097626,0.37306562066078186,0.0,0.10908930748701096,0.31609466671943665,0.0,0.4349135756492615,0.09004881232976913,0.23445987701416016,0.0,0.5441834330558777,0.0,0.22816817462444305,0.09347809106111526,0.08346609026193619,0.006952278781682253,0.050621647387742996,0.07301470637321472,0.2244623601436615,0.2357408106327057,0.0,0.8027152419090271,0.03929079696536064,0.0,0.1741572469472885,0.11198172718286514,0.0,0.0,0.31623026728630066,0.0,0.3670642673969269,0.12328246235847473,0.12715286016464233,0.2447214126586914,0.8542487025260925,0.13132229447364807,0.5872086882591248,0.1965751051902771,0.0,0.0,0.16345973312854767,0.2624834477901459,0.0,0.02237066626548767,0.0,0.18462377786636353,0.0,0.0,0.0,0.0222066231071949,0.08386421203613281,0.29814186692237854,0.0,0.2561699151992798,0.107767753303051,0.426992267370224,0.0,0.23963475227355957,0.0,0.050622373819351196,0.23145779967308044,0.0,0.0,0.5996283888816833,0.05132541432976723,0.04173973947763443,0.05157874524593353,0.5517942309379578,0.24205757677555084,0.0,0.21525633335113525,0.0,0.23559562861919403,0.11151165515184402,0.21499519050121307,0.17254528403282166,0.0,0.048720669001340866,0.0,0.05543375015258789,0.08786620199680328,0.3632047474384308,0.34601086378097534,0.0,0.15937042236328125,0.5915595889091492,0.0,0.13608816266059875,0.0,0.09413062036037445,0.09624674916267395,0.15851831436157227,0.0,0.0,0.10352391004562378,0.36413872241973877,0.09432269632816315,0.3602026402950287,0.17948755621910095,0.0,0.47851651906967163,0.177656352519989,0.0,0.6006067991256714,0.323822557926178,0.054748620837926865,0.0,0.2357492595911026,0.24828818440437317,0.18926003575325012,0.12244751304388046,0.24427515268325806,0.013920031487941742,0.0,0.09422264248132706,0.7273462414741516,0.7501959800720215,0.5107202529907227,0.09232784062623978,0.07002038508653641,0.06432054936885834,0.01953614316880703,0.05670260265469551,0.0,0.34287145733833313,0.20888467133045197,0.2462235540151596,0.3441919982433319,0.03520219027996063,0.2146371752023697,0.1084124892950058,0.0,0.0,0.2539770305156708,0.1330035924911499,0.04899189993739128,0.03735652193427086,0.0501398891210556,0.0,0.05904104933142662,0.008153681643307209,0.0,0.0,0.19105744361877441,0.0,0.05532632768154144,0.11556073278188705,0.0,0.0,0.05011135712265968,0.7438370585441589,0.014235229231417179,0.016123615205287933,0.23456856608390808,0.4147731065750122,0.09686283767223358,0.10902898013591766,0.0,0.4951840341091156,0.36058634519577026,0.009391196072101593,0.0,0.06108994781970978,0.17352288961410522,0.24828360974788666,0.0,0.0,0.08414459973573685,0.0,0.19042371213436127,0.0,0.0,0.25369763374328613,0.36197513341903687,0.28203243017196655,0.0,0.0,0.40724417567253113,0.11026600748300552,0.5330231189727783,0.1981564462184906,0.17347025871276855,0.0,0.5194041132926941,0.4280757009983063,0.30560117959976196,0.0,0.5083006620407104,0.0,0.032022856175899506,0.03550979122519493,0.2257380485534668,0.0,0.09444839507341385,0.19281168282032013,0.0,0.15634161233901978,0.9967377781867981,0.0,0.1986534297466278,0.1008135974407196,0.19478030502796173,0.40731146931648254,0.0,0.2781776785850525,0.39402034878730774,0.2356107383966446,0.16794806718826294,0.01406107097864151,0.19153620302677155,0.3590477705001831,0.5923912525177002,0.3041874170303345,0.11582568287849426,0.33612874150276184,0.09885038435459137,0.0,0.2927505373954773,0.18061907589435577,0.4094301164150238,0.14136679470539093,0.23716646432876587,0.09910242259502411,0.33302080631256104,0.15810033679008484,0.41220834851264954,0.49205341935157776,0.18840162456035614,0.335671067237854,0.45944929122924805,0.28525587916374207,0.19824707508087158,0.1297084391117096,0.4879210591316223,0.48112374544143677,0.2429729849100113,0.6383475065231323,0.0510689876973629,0.0,0.0,0.2810591757297516,0.15966439247131348,0.3784610331058502,0.44542983174324036,0.40198901295661926,0.2876415550708771,0.0,0.0,0.7554341554641724,0.0,0.0,0.0,0.21636946499347687,0.2532440721988678,0.3340194821357727,0.0,0.4980021119117737,0.028977474197745323,0.0,0.0,1.0195363759994507,0.922183632850647,0.19042760133743286,0.0,0.048184048384428024,0.0,0.07810623943805695,0.0916200801730156,0.16557538509368896,0.0,0.7529938817024231,0.10885529220104218,0.0,0.08610833436250687,0.0,0.0,0.160204216837883,0.33840176463127136,0.3852350115776062,0.0,0.0,0.21344110369682312,0.36285629868507385,0.0,0.0,0.2544878125190735,0.2507464587688446,0.19498246908187866,0.8730148673057556,0.3604497015476227,0.1392059475183487,0.05927227810025215,0.0,0.0,0.27391353249549866,0.2123778611421585,0.40461209416389465,0.3802163004875183,0.08315034210681915,0.0,0.2743082344532013,0.30826234817504883,0.05284985154867172,0.0,0.13756346702575684,0.0,0.25972700119018555,0.2699819505214691,0.8041956424713135,0.12219081073999405,0.0,0.23671755194664001,0.13484475016593933,0.0408371202647686,0.0,0.0,0.23309855163097382,0.06679071485996246,0.8309349417686462,0.8636214733123779,0.20619267225265503,0.478413462638855,0.1856306493282318,0.0,0.9054120182991028,0.0,0.6461083292961121,0.3382970094680786,0.0,0.27130699157714844,0.2730521261692047,0.04829595237970352,0.28238222002983093,0.19659627974033356,0.10708892345428467,0.29960742592811584,0.37728577852249146,0.09391319006681442,0.42311835289001465,0.1147584542632103,0.4022339880466461,0.0,0.46585607528686523,0.02725561521947384,0.5575913786888123,0.2795099914073944,0.3586648404598236,0.6388022303581238,0.8096912503242493,0.24131876230239868,0.0,0.0,0.542685866355896,0.17409159243106842,0.13411441445350647,0.0,0.5889833569526672,0.0,0.0,0.6198320984840393,0.0,0.38283514976501465,0.8542210459709167,0.0,0.6555094718933105,0.0,0.4492112994194031,0.7999109029769897,0.46811118721961975,0.9651791453361511,0.0,0.4146597683429718,0.0,0.0,0.22788943350315094,0.0,0.11918255686759949,0.12310981005430222,0.2561783790588379,0.6905640959739685,0.0,0.1481182873249054,0.3170916438102722,0.29494792222976685,1.0283453464508057,1.0533149242401123,0.0,0.09384185075759888,0.6217097043991089,0.7306675910949707,0.0,0.48887136578559875,0.0,1.285980224609375,0.6773455739021301,0.08884265273809433,0.0,0.5501507520675659,0.2816810607910156,0.7059358358383179,0.0,0.28038060665130615,0.30575355887413025,0.22987346351146698,0.0,0.9328532814979553,0.0,0.17655131220817566,0.16429831087589264,0.0,0.9097787737846375,0.378909707069397,0.7486540079116821,0.8786977529525757,0.0,1.3913660049438477,0.5754243731498718,0.41811078786849976,1.1442079544067383,0.478056401014328,0.8304085731506348,0.5020503997802734,0.7704967856407166,0.0,0.0,0.0,0.0,0.0,0.0,0.0,0.0,0.858257532119751,0.2041826844215393,0.26622167229652405,0.0,0.8214187622070312,0.8414756059646606,0.5170058012008667,0.417736679315567,0.0,0.13945704698562622,0.4416462481021881,0.5171558856964111,0.0,0.6531736850738525,0.0,0.0,0.0,0.7286454439163208],\"yaxis\":\"y\",\"type\":\"scatter\"}],                        {\"template\":{\"data\":{\"bar\":[{\"error_x\":{\"color\":\"#2a3f5f\"},\"error_y\":{\"color\":\"#2a3f5f\"},\"marker\":{\"line\":{\"color\":\"#E5ECF6\",\"width\":0.5},\"pattern\":{\"fillmode\":\"overlay\",\"size\":10,\"solidity\":0.2}},\"type\":\"bar\"}],\"barpolar\":[{\"marker\":{\"line\":{\"color\":\"#E5ECF6\",\"width\":0.5},\"pattern\":{\"fillmode\":\"overlay\",\"size\":10,\"solidity\":0.2}},\"type\":\"barpolar\"}],\"carpet\":[{\"aaxis\":{\"endlinecolor\":\"#2a3f5f\",\"gridcolor\":\"white\",\"linecolor\":\"white\",\"minorgridcolor\":\"white\",\"startlinecolor\":\"#2a3f5f\"},\"baxis\":{\"endlinecolor\":\"#2a3f5f\",\"gridcolor\":\"white\",\"linecolor\":\"white\",\"minorgridcolor\":\"white\",\"startlinecolor\":\"#2a3f5f\"},\"type\":\"carpet\"}],\"choropleth\":[{\"colorbar\":{\"outlinewidth\":0,\"ticks\":\"\"},\"type\":\"choropleth\"}],\"contour\":[{\"colorbar\":{\"outlinewidth\":0,\"ticks\":\"\"},\"colorscale\":[[0.0,\"#0d0887\"],[0.1111111111111111,\"#46039f\"],[0.2222222222222222,\"#7201a8\"],[0.3333333333333333,\"#9c179e\"],[0.4444444444444444,\"#bd3786\"],[0.5555555555555556,\"#d8576b\"],[0.6666666666666666,\"#ed7953\"],[0.7777777777777778,\"#fb9f3a\"],[0.8888888888888888,\"#fdca26\"],[1.0,\"#f0f921\"]],\"type\":\"contour\"}],\"contourcarpet\":[{\"colorbar\":{\"outlinewidth\":0,\"ticks\":\"\"},\"type\":\"contourcarpet\"}],\"heatmap\":[{\"colorbar\":{\"outlinewidth\":0,\"ticks\":\"\"},\"colorscale\":[[0.0,\"#0d0887\"],[0.1111111111111111,\"#46039f\"],[0.2222222222222222,\"#7201a8\"],[0.3333333333333333,\"#9c179e\"],[0.4444444444444444,\"#bd3786\"],[0.5555555555555556,\"#d8576b\"],[0.6666666666666666,\"#ed7953\"],[0.7777777777777778,\"#fb9f3a\"],[0.8888888888888888,\"#fdca26\"],[1.0,\"#f0f921\"]],\"type\":\"heatmap\"}],\"heatmapgl\":[{\"colorbar\":{\"outlinewidth\":0,\"ticks\":\"\"},\"colorscale\":[[0.0,\"#0d0887\"],[0.1111111111111111,\"#46039f\"],[0.2222222222222222,\"#7201a8\"],[0.3333333333333333,\"#9c179e\"],[0.4444444444444444,\"#bd3786\"],[0.5555555555555556,\"#d8576b\"],[0.6666666666666666,\"#ed7953\"],[0.7777777777777778,\"#fb9f3a\"],[0.8888888888888888,\"#fdca26\"],[1.0,\"#f0f921\"]],\"type\":\"heatmapgl\"}],\"histogram\":[{\"marker\":{\"pattern\":{\"fillmode\":\"overlay\",\"size\":10,\"solidity\":0.2}},\"type\":\"histogram\"}],\"histogram2d\":[{\"colorbar\":{\"outlinewidth\":0,\"ticks\":\"\"},\"colorscale\":[[0.0,\"#0d0887\"],[0.1111111111111111,\"#46039f\"],[0.2222222222222222,\"#7201a8\"],[0.3333333333333333,\"#9c179e\"],[0.4444444444444444,\"#bd3786\"],[0.5555555555555556,\"#d8576b\"],[0.6666666666666666,\"#ed7953\"],[0.7777777777777778,\"#fb9f3a\"],[0.8888888888888888,\"#fdca26\"],[1.0,\"#f0f921\"]],\"type\":\"histogram2d\"}],\"histogram2dcontour\":[{\"colorbar\":{\"outlinewidth\":0,\"ticks\":\"\"},\"colorscale\":[[0.0,\"#0d0887\"],[0.1111111111111111,\"#46039f\"],[0.2222222222222222,\"#7201a8\"],[0.3333333333333333,\"#9c179e\"],[0.4444444444444444,\"#bd3786\"],[0.5555555555555556,\"#d8576b\"],[0.6666666666666666,\"#ed7953\"],[0.7777777777777778,\"#fb9f3a\"],[0.8888888888888888,\"#fdca26\"],[1.0,\"#f0f921\"]],\"type\":\"histogram2dcontour\"}],\"mesh3d\":[{\"colorbar\":{\"outlinewidth\":0,\"ticks\":\"\"},\"type\":\"mesh3d\"}],\"parcoords\":[{\"line\":{\"colorbar\":{\"outlinewidth\":0,\"ticks\":\"\"}},\"type\":\"parcoords\"}],\"pie\":[{\"automargin\":true,\"type\":\"pie\"}],\"scatter\":[{\"marker\":{\"colorbar\":{\"outlinewidth\":0,\"ticks\":\"\"}},\"type\":\"scatter\"}],\"scatter3d\":[{\"line\":{\"colorbar\":{\"outlinewidth\":0,\"ticks\":\"\"}},\"marker\":{\"colorbar\":{\"outlinewidth\":0,\"ticks\":\"\"}},\"type\":\"scatter3d\"}],\"scattercarpet\":[{\"marker\":{\"colorbar\":{\"outlinewidth\":0,\"ticks\":\"\"}},\"type\":\"scattercarpet\"}],\"scattergeo\":[{\"marker\":{\"colorbar\":{\"outlinewidth\":0,\"ticks\":\"\"}},\"type\":\"scattergeo\"}],\"scattergl\":[{\"marker\":{\"colorbar\":{\"outlinewidth\":0,\"ticks\":\"\"}},\"type\":\"scattergl\"}],\"scattermapbox\":[{\"marker\":{\"colorbar\":{\"outlinewidth\":0,\"ticks\":\"\"}},\"type\":\"scattermapbox\"}],\"scatterpolar\":[{\"marker\":{\"colorbar\":{\"outlinewidth\":0,\"ticks\":\"\"}},\"type\":\"scatterpolar\"}],\"scatterpolargl\":[{\"marker\":{\"colorbar\":{\"outlinewidth\":0,\"ticks\":\"\"}},\"type\":\"scatterpolargl\"}],\"scatterternary\":[{\"marker\":{\"colorbar\":{\"outlinewidth\":0,\"ticks\":\"\"}},\"type\":\"scatterternary\"}],\"surface\":[{\"colorbar\":{\"outlinewidth\":0,\"ticks\":\"\"},\"colorscale\":[[0.0,\"#0d0887\"],[0.1111111111111111,\"#46039f\"],[0.2222222222222222,\"#7201a8\"],[0.3333333333333333,\"#9c179e\"],[0.4444444444444444,\"#bd3786\"],[0.5555555555555556,\"#d8576b\"],[0.6666666666666666,\"#ed7953\"],[0.7777777777777778,\"#fb9f3a\"],[0.8888888888888888,\"#fdca26\"],[1.0,\"#f0f921\"]],\"type\":\"surface\"}],\"table\":[{\"cells\":{\"fill\":{\"color\":\"#EBF0F8\"},\"line\":{\"color\":\"white\"}},\"header\":{\"fill\":{\"color\":\"#C8D4E3\"},\"line\":{\"color\":\"white\"}},\"type\":\"table\"}]},\"layout\":{\"annotationdefaults\":{\"arrowcolor\":\"#2a3f5f\",\"arrowhead\":0,\"arrowwidth\":1},\"autotypenumbers\":\"strict\",\"coloraxis\":{\"colorbar\":{\"outlinewidth\":0,\"ticks\":\"\"}},\"colorscale\":{\"diverging\":[[0,\"#8e0152\"],[0.1,\"#c51b7d\"],[0.2,\"#de77ae\"],[0.3,\"#f1b6da\"],[0.4,\"#fde0ef\"],[0.5,\"#f7f7f7\"],[0.6,\"#e6f5d0\"],[0.7,\"#b8e186\"],[0.8,\"#7fbc41\"],[0.9,\"#4d9221\"],[1,\"#276419\"]],\"sequential\":[[0.0,\"#0d0887\"],[0.1111111111111111,\"#46039f\"],[0.2222222222222222,\"#7201a8\"],[0.3333333333333333,\"#9c179e\"],[0.4444444444444444,\"#bd3786\"],[0.5555555555555556,\"#d8576b\"],[0.6666666666666666,\"#ed7953\"],[0.7777777777777778,\"#fb9f3a\"],[0.8888888888888888,\"#fdca26\"],[1.0,\"#f0f921\"]],\"sequentialminus\":[[0.0,\"#0d0887\"],[0.1111111111111111,\"#46039f\"],[0.2222222222222222,\"#7201a8\"],[0.3333333333333333,\"#9c179e\"],[0.4444444444444444,\"#bd3786\"],[0.5555555555555556,\"#d8576b\"],[0.6666666666666666,\"#ed7953\"],[0.7777777777777778,\"#fb9f3a\"],[0.8888888888888888,\"#fdca26\"],[1.0,\"#f0f921\"]]},\"colorway\":[\"#636efa\",\"#EF553B\",\"#00cc96\",\"#ab63fa\",\"#FFA15A\",\"#19d3f3\",\"#FF6692\",\"#B6E880\",\"#FF97FF\",\"#FECB52\"],\"font\":{\"color\":\"#2a3f5f\"},\"geo\":{\"bgcolor\":\"white\",\"lakecolor\":\"white\",\"landcolor\":\"#E5ECF6\",\"showlakes\":true,\"showland\":true,\"subunitcolor\":\"white\"},\"hoverlabel\":{\"align\":\"left\"},\"hovermode\":\"closest\",\"mapbox\":{\"style\":\"light\"},\"paper_bgcolor\":\"white\",\"plot_bgcolor\":\"#E5ECF6\",\"polar\":{\"angularaxis\":{\"gridcolor\":\"white\",\"linecolor\":\"white\",\"ticks\":\"\"},\"bgcolor\":\"#E5ECF6\",\"radialaxis\":{\"gridcolor\":\"white\",\"linecolor\":\"white\",\"ticks\":\"\"}},\"scene\":{\"xaxis\":{\"backgroundcolor\":\"#E5ECF6\",\"gridcolor\":\"white\",\"gridwidth\":2,\"linecolor\":\"white\",\"showbackground\":true,\"ticks\":\"\",\"zerolinecolor\":\"white\"},\"yaxis\":{\"backgroundcolor\":\"#E5ECF6\",\"gridcolor\":\"white\",\"gridwidth\":2,\"linecolor\":\"white\",\"showbackground\":true,\"ticks\":\"\",\"zerolinecolor\":\"white\"},\"zaxis\":{\"backgroundcolor\":\"#E5ECF6\",\"gridcolor\":\"white\",\"gridwidth\":2,\"linecolor\":\"white\",\"showbackground\":true,\"ticks\":\"\",\"zerolinecolor\":\"white\"}},\"shapedefaults\":{\"line\":{\"color\":\"#2a3f5f\"}},\"ternary\":{\"aaxis\":{\"gridcolor\":\"white\",\"linecolor\":\"white\",\"ticks\":\"\"},\"baxis\":{\"gridcolor\":\"white\",\"linecolor\":\"white\",\"ticks\":\"\"},\"bgcolor\":\"#E5ECF6\",\"caxis\":{\"gridcolor\":\"white\",\"linecolor\":\"white\",\"ticks\":\"\"}},\"title\":{\"x\":0.05},\"xaxis\":{\"automargin\":true,\"gridcolor\":\"white\",\"linecolor\":\"white\",\"ticks\":\"\",\"title\":{\"standoff\":15},\"zerolinecolor\":\"white\",\"zerolinewidth\":2},\"yaxis\":{\"automargin\":true,\"gridcolor\":\"white\",\"linecolor\":\"white\",\"ticks\":\"\",\"title\":{\"standoff\":15},\"zerolinecolor\":\"white\",\"zerolinewidth\":2}}},\"xaxis\":{\"anchor\":\"y\",\"domain\":[0.0,1.0],\"title\":{\"text\":\"index\"}},\"yaxis\":{\"anchor\":\"x\",\"domain\":[0.0,1.0],\"title\":{\"text\":\"y\"}},\"coloraxis\":{\"colorbar\":{\"title\":{\"text\":\"color\"}},\"colorscale\":[[0.0,\"#0d0887\"],[0.1111111111111111,\"#46039f\"],[0.2222222222222222,\"#7201a8\"],[0.3333333333333333,\"#9c179e\"],[0.4444444444444444,\"#bd3786\"],[0.5555555555555556,\"#d8576b\"],[0.6666666666666666,\"#ed7953\"],[0.7777777777777778,\"#fb9f3a\"],[0.8888888888888888,\"#fdca26\"],[1.0,\"#f0f921\"]]},\"legend\":{\"tracegroupgap\":0},\"margin\":{\"t\":60}},                        {\"responsive\": true}                    ).then(function(){\n",
              "                            \n",
              "var gd = document.getElementById('83ffe752-5608-4036-8751-5acfd8ee501c');\n",
              "var x = new MutationObserver(function (mutations, observer) {{\n",
              "        var display = window.getComputedStyle(gd).display;\n",
              "        if (!display || display === 'none') {{\n",
              "            console.log([gd, 'removed!']);\n",
              "            Plotly.purge(gd);\n",
              "            observer.disconnect();\n",
              "        }}\n",
              "}});\n",
              "\n",
              "// Listen for the removal of the full notebook cells\n",
              "var notebookContainer = gd.closest('#notebook-container');\n",
              "if (notebookContainer) {{\n",
              "    x.observe(notebookContainer, {childList: true});\n",
              "}}\n",
              "\n",
              "// Listen for the clearing of the current output cell\n",
              "var outputEl = gd.closest('.output');\n",
              "if (outputEl) {{\n",
              "    x.observe(outputEl, {childList: true});\n",
              "}}\n",
              "\n",
              "                        })                };                            </script>        </div>\n",
              "</body>\n",
              "</html>"
            ]
          },
          "metadata": {}
        }
      ]
    }
  ]
}